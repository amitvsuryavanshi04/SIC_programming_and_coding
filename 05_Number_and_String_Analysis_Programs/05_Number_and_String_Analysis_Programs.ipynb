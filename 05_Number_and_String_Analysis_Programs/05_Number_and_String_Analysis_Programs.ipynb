{
  "nbformat": 4,
  "nbformat_minor": 0,
  "metadata": {
    "colab": {
      "provenance": []
    },
    "kernelspec": {
      "name": "python3",
      "display_name": "Python 3"
    },
    "language_info": {
      "name": "python"
    }
  },
  "cells": [
    {
      "cell_type": "markdown",
      "source": [
        "This notebook contains Python programs (41–50) focused on number theory and basic string/list operations.\n",
        "\n",
        "* It includes checks for special numbers (like Disarium, Happy, Harshad, Pronic) and basic list manipulations.\n",
        "* this notebook can be accessed using (https://github.com/amitvsuryavanshi04/SIC_programming_and_coding)"
      ],
      "metadata": {
        "id": "JdeotoKDUXUo"
      }
    },
    {
      "cell_type": "markdown",
      "source": [
        "Program 41 to remove punctuation from a string."
      ],
      "metadata": {
        "id": "JIkduzBvUX7Q"
      }
    },
    {
      "cell_type": "code",
      "execution_count": null,
      "metadata": {
        "colab": {
          "base_uri": "https://localhost:8080/"
        },
        "id": "ffi9cg_QUOs3",
        "outputId": "30df2a55-1cfc-4fb9-b346-5553ce8ba4fb"
      },
      "outputs": [
        {
          "output_type": "stream",
          "name": "stdout",
          "text": [
            "Enter a string: afniaiuagakb %&^%%*(( amit *&(\n",
            "afniaiuagakb  amit \n"
          ]
        }
      ],
      "source": [
        "# define punctuation\n",
        "punctuations = '''!()-[]{};:'\"\\,<>./?@#$%^&*_~'''\n",
        "# To take input from the user\n",
        "my_str = input(\"Enter a string: \")\n",
        "# remove punctuation from the string\n",
        "no_punct = \"\"\n",
        "for char in my_str:\n",
        "  if char not in punctuations:\n",
        "    no_punct = no_punct + char\n",
        "# display the unpunctuated string\n",
        "print(no_punct)"
      ]
    },
    {
      "cell_type": "markdown",
      "source": [
        "Program 42 to check if given number is Disarium number\n",
        "A Disarium number is a number that is equal to the sum of its digits each raised to the\n",
        "power of its respective position. For example, 89 is a Disarium number because\n",
        "81 + 92 = 8 + 81 = 89."
      ],
      "metadata": {
        "id": "WcrpFoPKUhrn"
      }
    },
    {
      "cell_type": "code",
      "source": [
        "def is_disarium(number):\n",
        "    # Convert the number to a string to iterate over its digits\n",
        "    num_str = str(number)\n",
        "    # Calculate the sum of digits raised to their respective positions\n",
        "    digit_sum = sum(int(i) ** (index + 1) for index, i in enumerate(num_str))\n",
        "    # Check if the sum is equal to the original number\n",
        "    return digit_sum == number\n",
        "\n",
        "# Input a number from the user\n",
        "try:\n",
        "    num = int(input(\"Enter a number: \"))\n",
        "    # Check if it's a Disarium number\n",
        "    if is_disarium(num):\n",
        "        print(f\"{num} is a Disarium number.\")\n",
        "    else:\n",
        "        print(f\"{num} is not a Disarium number.\")\n",
        "except ValueError:\n",
        "    print(\"Invalid input. Please enter a valid number.\")\n"
      ],
      "metadata": {
        "colab": {
          "base_uri": "https://localhost:8080/"
        },
        "id": "U-yFv67DUhJf",
        "outputId": "a62e0424-7e03-4ba2-b509-2e9ff7e0dafa"
      },
      "execution_count": 1,
      "outputs": [
        {
          "output_type": "stream",
          "name": "stdout",
          "text": [
            "Enter a number: 445\n",
            "445 is not a Disarium number.\n"
          ]
        }
      ]
    },
    {
      "cell_type": "markdown",
      "source": [
        "Program 43 to print all disarium numbers between 1 to 100"
      ],
      "metadata": {
        "id": "Xl2bk68tsXI_"
      }
    },
    {
      "cell_type": "code",
      "source": [
        "def is_disarium(num):\n",
        "    num_str = str(num)\n",
        "    digit_sum = sum(int(i) ** (index + 1) for index, i in enumerate(num_str))\n",
        "    return num == digit_sum\n",
        "\n",
        "# Generate Disarium numbers between 1 and 100\n",
        "disarium_numbers = [num for num in range(1, 101) if is_disarium(num)]\n",
        "\n",
        "print(\"Disarium numbers between 1 and 100:\")\n",
        "for num in disarium_numbers:\n",
        "    print(num, end=\" | \")\n"
      ],
      "metadata": {
        "colab": {
          "base_uri": "https://localhost:8080/"
        },
        "id": "TlsThbe4sdmf",
        "outputId": "b7dd826a-8e9c-4f28-afd6-7928f937a383"
      },
      "execution_count": 3,
      "outputs": [
        {
          "output_type": "stream",
          "name": "stdout",
          "text": [
            "Disarium numbers between 1 and 100:\n",
            "1 | 2 | 3 | 4 | 5 | 6 | 7 | 8 | 9 | 89 | "
          ]
        }
      ]
    },
    {
      "cell_type": "markdown",
      "source": [
        "Program 44 to check given number is happy number\n",
        "##Happy Number: A Happy Number is a positive integer that, when you repeatedly replace\n",
        "###the number by the sum of the squares of its digits and continue the process, eventually reaches 1. If the process never reaches 1 but instead loops endlessly in a cycle, the number is not a Happy Number.\n",
        "#### For example:\n",
        "#### 19 is a Happy Number because:\n",
        "#### The process reaches 1, so 19 is a Happy Number"
      ],
      "metadata": {
        "id": "PHZndXjhsqU5"
      }
    },
    {
      "cell_type": "code",
      "source": [
        "def is_happy_number(num):\n",
        "  seen = set() # To store previously seen numbers\n",
        "  while num != 1 and num not in seen:\n",
        "    seen.add(num)\n",
        "    num = sum(int(i) ** 2 for i in str(num))\n",
        "  return num == 1\n",
        "# Test the function with a number\n",
        "num = int(input(\"Enter a number: \"))\n",
        "if is_happy_number(num):\n",
        "  print(f\"{num} is a Happy Number\")\n",
        "else:\n",
        "  print(f\"{num} is not a Happy Number\")"
      ],
      "metadata": {
        "colab": {
          "base_uri": "https://localhost:8080/"
        },
        "id": "Le7MgETgs6pY",
        "outputId": "c6735326-83ab-44f5-9dc2-54302f15683e"
      },
      "execution_count": 4,
      "outputs": [
        {
          "output_type": "stream",
          "name": "stdout",
          "text": [
            "Enter a number: 19\n",
            "19 is a Happy Number\n"
          ]
        }
      ]
    },
    {
      "cell_type": "markdown",
      "source": [
        "Program 45 Print all happy numbers between 1 and 100."
      ],
      "metadata": {
        "id": "bQNPj4zmtYQw"
      }
    },
    {
      "cell_type": "code",
      "source": [
        "def is_happy_number(num):\n",
        "  seen = set()\n",
        "  while num != 1 and num not in seen:\n",
        "    seen.add(num)\n",
        "    num = sum(int(i) ** 2 for i in str(num))\n",
        "  return num == 1\n",
        "happy_numbers = []\n",
        "for num in range(1, 101):\n",
        "  if is_happy_number(num):\n",
        "    happy_numbers.append(num)\n",
        "print(\"Happy Numbers between 1 and 100:\")\n",
        "print(happy_numbers)"
      ],
      "metadata": {
        "colab": {
          "base_uri": "https://localhost:8080/"
        },
        "id": "A22FPjG9tc3z",
        "outputId": "98909b09-0724-4312-a7e4-41fd14eab974"
      },
      "execution_count": 5,
      "outputs": [
        {
          "output_type": "stream",
          "name": "stdout",
          "text": [
            "Happy Numbers between 1 and 100:\n",
            "[1, 7, 10, 13, 19, 23, 28, 31, 32, 44, 49, 68, 70, 79, 82, 86, 91, 94, 97, 100]\n"
          ]
        }
      ]
    },
    {
      "cell_type": "markdown",
      "source": [
        "Program 46  to determine whether the given number is a Harshad\n",
        "Number.\n",
        "A Harshad number (or Niven number) is an integer that is divisible by the sum of its digits.\n",
        "In other words, a number is considered a Harshad number if it can be evenly divided by the\n",
        "sum of its own digits.\n",
        "For example:\n",
        "18 is a Harshad number because , and 18 is divisible by 9\n",
        "42 is not a Harshad number because , and 42 is not divisible by 6."
      ],
      "metadata": {
        "id": "6TnhPpQWtjRQ"
      }
    },
    {
      "cell_type": "code",
      "source": [
        "def is_harshad_number(num):\n",
        "# Calculate the sum of the digits of the number\n",
        "  digit_sum = sum(int(i) for i in str(num))\n",
        "# Check if the number is divisible by the sum of its digits\n",
        "  return num % digit_sum == 0\n",
        "# Input a number\n",
        "num = int(input(\"Enter a number: \"))\n",
        "# Check if it's a Harshad Number\n",
        "if is_harshad_number(num):\n",
        "  print(f\"{num} is a Harshad Number.\")\n",
        "else:\n",
        "  print(f\"{num} is not a Harshad Number.\")"
      ],
      "metadata": {
        "colab": {
          "base_uri": "https://localhost:8080/"
        },
        "id": "CXTNB4JYtqxm",
        "outputId": "5e5df02b-6f78-4656-ea54-5163333995b9"
      },
      "execution_count": 6,
      "outputs": [
        {
          "output_type": "stream",
          "name": "stdout",
          "text": [
            "Enter a number: 20\n",
            "20 is a Harshad Number.\n"
          ]
        }
      ]
    },
    {
      "cell_type": "markdown",
      "source": [
        "Program 47\n",
        "* to print all pronic numbers between 1 and 100.\n",
        "* A pronic number, also known as an oblong number or rectangular number, is a type of\n",
        "* figurate number that represents a rectangle. It is the product of two consecutive integers, n and (n + 1).\n",
        "* Mathematically, a pronic number can be expressed as:\n",
        "For example, the first few pronic numbers are:\n",
        "1. 𝑃𝑛 = 𝑛 ∗ (𝑛 + 1)\n",
        "2. 𝑃1 = 1 ∗ (1 + 1) = 2\n",
        "3. 𝑃2 = 2 ∗ (2 + 1) = 6\n",
        "4. 𝑃3 = 3 ∗ (3 + 1) = 12\n",
        "5. 𝑃4 = 4 ∗ (4 + 1) = 20"
      ],
      "metadata": {
        "id": "BVAwgZ3itx5T"
      }
    },
    {
      "cell_type": "code",
      "source": [
        "def is_pronic_number(num):\n",
        "  for n in range(1, int(num**0.5) + 1):\n",
        "    if n * (n + 1) == num:\n",
        "      return True\n",
        "  return False\n",
        "print(\"Pronic numbers between 1 and 100 are:\")\n",
        "for i in range(1, 101):\n",
        "  if is_pronic_number(i):\n",
        "    print(i, end=\" | \")"
      ],
      "metadata": {
        "colab": {
          "base_uri": "https://localhost:8080/"
        },
        "id": "MkU9BKV_uCSE",
        "outputId": "e71bd4f2-e1d9-4094-a3ea-0973d415280e"
      },
      "execution_count": 7,
      "outputs": [
        {
          "output_type": "stream",
          "name": "stdout",
          "text": [
            "Pronic numbers between 1 and 100 are:\n",
            "2 | 6 | 12 | 20 | 30 | 42 | 56 | 72 | 90 | "
          ]
        }
      ]
    },
    {
      "cell_type": "markdown",
      "source": [
        "Program 48 sum of elements in an array."
      ],
      "metadata": {
        "id": "3bBDirD2uIxP"
      }
    },
    {
      "cell_type": "code",
      "source": [
        "# Sample list of numbers\n",
        "numbers = [10, 20, 30, 40, 50]\n",
        "# Initialize a variable to store the sum\n",
        "sum_of_numbers = 0\n",
        "# Iterate through the list and accumulate the sum\n",
        "for i in numbers:\n",
        "  sum_of_numbers += i\n",
        "# Print the sum\n",
        "print(\"Sum of elements in the list:\", sum_of_numbers)"
      ],
      "metadata": {
        "colab": {
          "base_uri": "https://localhost:8080/"
        },
        "id": "JrpLByQGuPDD",
        "outputId": "d28660d5-be6d-4fda-a5ae-ac69a3e57b32"
      },
      "execution_count": 8,
      "outputs": [
        {
          "output_type": "stream",
          "name": "stdout",
          "text": [
            "Sum of elements in the list: 150\n"
          ]
        }
      ]
    },
    {
      "cell_type": "markdown",
      "source": [
        "Program 49 multiply all numbers in the list"
      ],
      "metadata": {
        "id": "Lxw-fl_suT2T"
      }
    },
    {
      "cell_type": "code",
      "source": [
        "# Sample list of numbers\n",
        "numbers = [10, 20, 30, 40, 50]\n",
        "# Initialize a variable to store the product\n",
        "product_of_numbers = 1\n",
        "# Iterate through the list and accumulate the product\n",
        "for i in numbers:\n",
        "  product_of_numbers *= i\n",
        "# Print the product\n",
        "print(\"Product of elements in the list:\", product_of_numbers)"
      ],
      "metadata": {
        "colab": {
          "base_uri": "https://localhost:8080/"
        },
        "id": "Od3Z48SiuYW3",
        "outputId": "07dd71dd-b76d-4f86-a2a5-ce9ec18a77cf"
      },
      "execution_count": 9,
      "outputs": [
        {
          "output_type": "stream",
          "name": "stdout",
          "text": [
            "Product of elements in the list: 12000000\n"
          ]
        }
      ]
    },
    {
      "cell_type": "markdown",
      "source": [
        "Program 50 to find the smallest number in the list"
      ],
      "metadata": {
        "id": "V7IdGp9cuc2K"
      }
    },
    {
      "cell_type": "code",
      "source": [
        "# Sample list of numbers\n",
        "numbers = [30, 10, -45, 5, 20]\n",
        "# Initialize a variable to store the minimum value, initially set to th\n",
        "minimum = numbers[0]\n",
        "# Iterate through the list and update the minimum value if a smaller nu\n",
        "for i in numbers:\n",
        "  if i < minimum:\n",
        "    minimum = i\n",
        "# Print the minimum value\n",
        "print(\"The smallest number in the list is:\", minimum)"
      ],
      "metadata": {
        "colab": {
          "base_uri": "https://localhost:8080/"
        },
        "id": "1UaPR56Duh3q",
        "outputId": "2a751251-dde5-430e-bb5e-29404ced4191"
      },
      "execution_count": 10,
      "outputs": [
        {
          "output_type": "stream",
          "name": "stdout",
          "text": [
            "The smallest number in the list is: -45\n"
          ]
        }
      ]
    }
  ]
}
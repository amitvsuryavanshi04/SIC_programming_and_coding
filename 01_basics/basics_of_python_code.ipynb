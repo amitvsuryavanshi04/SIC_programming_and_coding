{
  "nbformat": 4,
  "nbformat_minor": 0,
  "metadata": {
    "colab": {
      "provenance": []
    },
    "kernelspec": {
      "name": "python3",
      "display_name": "Python 3"
    },
    "language_info": {
      "name": "python"
    }
  },
  "cells": [
    {
      "cell_type": "markdown",
      "source": [
        "This is a basic python codes notebook, the codes might be similar to many of you guys, just composing them In a single notebook for convenience..\n",
        "If you guys like this notebook, don't forget to put a star on the repo, and follow on github(https://github.com/amitvsuryavanshi04/) to get more\n",
        "stuff"
      ],
      "metadata": {
        "id": "nVP80ZKy1Eti"
      }
    },
    {
      "cell_type": "markdown",
      "source": [
        "Program 01"
      ],
      "metadata": {
        "id": "59pNer891vcX"
      }
    },
    {
      "cell_type": "code",
      "execution_count": 1,
      "metadata": {
        "colab": {
          "base_uri": "https://localhost:8080/"
        },
        "id": "qqnOHVwq0yvA",
        "outputId": "254f8282-0de1-4e68-b440-a32e03eb23fc"
      },
      "outputs": [
        {
          "output_type": "stream",
          "name": "stdout",
          "text": [
            "Hello Welcome to the notebook ...\n"
          ]
        }
      ],
      "source": [
        "print(\"Hello Welcome to the notebook ...\")"
      ]
    },
    {
      "cell_type": "markdown",
      "source": [
        "Program 02"
      ],
      "metadata": {
        "id": "j3lHiejx1w0S"
      }
    },
    {
      "cell_type": "code",
      "source": [
        "#Addition operator\n",
        "print(\"Addition of two numbers\")\n",
        "n1 = float(input(\"Enter the first number: \"))\n",
        "n2 = float(input(\"Enter the Second number: \"))\n",
        "result = n1 + n2\n",
        "print(result)"
      ],
      "metadata": {
        "colab": {
          "base_uri": "https://localhost:8080/"
        },
        "id": "X7uAasCN1x2r",
        "outputId": "75a4100f-1e27-45eb-b553-12794d85b949"
      },
      "execution_count": 2,
      "outputs": [
        {
          "output_type": "stream",
          "name": "stdout",
          "text": [
            "Addition of two numbers\n",
            "Enter the first number: 11\n",
            "Enter the Second number: 34\n",
            "45.0\n"
          ]
        }
      ]
    },
    {
      "cell_type": "code",
      "source": [
        "#Division operator\n",
        "print(\"Division of two numbers\")\n",
        "n1 = float(input(\"Enter the first number: \"))\n",
        "n2 = float(input(\"Enter the Second number: \"))\n",
        "result = n1 / n2\n",
        "print(result)"
      ],
      "metadata": {
        "colab": {
          "base_uri": "https://localhost:8080/"
        },
        "id": "_O9HD_en2Tq-",
        "outputId": "2d282266-86ba-4672-c55c-c952c94e8d50"
      },
      "execution_count": 3,
      "outputs": [
        {
          "output_type": "stream",
          "name": "stdout",
          "text": [
            "Division of two numbers\n",
            "Enter the first number: 45\n",
            "Enter the Second number: 9\n",
            "5.0\n"
          ]
        }
      ]
    },
    {
      "cell_type": "markdown",
      "source": [
        "Prorgam 03 program to find the area of a triangle"
      ],
      "metadata": {
        "id": "HEXAyF8u2ZuJ"
      }
    },
    {
      "cell_type": "code",
      "source": [
        "#inputs given are base and height by the user for the\n",
        "#calculation of area of the triangle\n",
        "base = float(input(\"Enter the length of the base of the triangle: \"))\n",
        "height = float(input(\"Enter the length of the height of the triangle: \"))\n",
        "area = 0.5 * base * height\n",
        "print(\"The area of the triangle is: \", area)\n",
        "#the above statement displays the result"
      ],
      "metadata": {
        "colab": {
          "base_uri": "https://localhost:8080/"
        },
        "id": "fXTlsiBk2elj",
        "outputId": "65e605ae-54ed-42e2-e05d-661db0a97001"
      },
      "execution_count": 4,
      "outputs": [
        {
          "output_type": "stream",
          "name": "stdout",
          "text": [
            "Enter the length of the base of the triangle: 45\n",
            "Enter the length of the height of the triangle: 20\n",
            "The area of the triangle is:  450.0\n"
          ]
        }
      ]
    },
    {
      "cell_type": "markdown",
      "source": [
        "Program 04 code to swap two variables"
      ],
      "metadata": {
        "id": "5eS39RZ43M1C"
      }
    },
    {
      "cell_type": "code",
      "source": [
        "#put the two numbers to be swaped\n",
        "num1 = input(\"Enter first number: \")\n",
        "num2 = input(\"Enter second number: \")\n",
        "#display the original numbers\n",
        "print(f\"Original values: num1 = {num1}, num2 = {num2}\")\n",
        "temp = num1\n",
        "num1 = num2\n",
        "num2 = temp\n",
        "print(f\"Swapped values are : num1 = {num1} , num2 = {num2}\")"
      ],
      "metadata": {
        "colab": {
          "base_uri": "https://localhost:8080/"
        },
        "id": "oxEFtIC03arf",
        "outputId": "7f37af37-e8ce-4006-eaac-b0acd857c74d"
      },
      "execution_count": 5,
      "outputs": [
        {
          "output_type": "stream",
          "name": "stdout",
          "text": [
            "Enter first number: 1111\n",
            "Enter second number: 2222\n",
            "Original values: num1 = 1111, num2 = 2222\n",
            "Swapped values are : num1 = 2222 , num2 = 1111\n"
          ]
        }
      ]
    },
    {
      "cell_type": "markdown",
      "source": [
        "Program 05 code to generate random number"
      ],
      "metadata": {
        "id": "Hs0r9Zbb4QJX"
      }
    },
    {
      "cell_type": "code",
      "source": [
        "#code for generating a random number\n",
        "import random\n",
        "print(f\"Random number: {random.randint(1,100)}\") #prints random\n",
        "#value between 1 and 100"
      ],
      "metadata": {
        "colab": {
          "base_uri": "https://localhost:8080/"
        },
        "id": "Jl96-_oJ4yaA",
        "outputId": "a5c65db6-3819-4ffc-8691-6ba012790d96"
      },
      "execution_count": 6,
      "outputs": [
        {
          "output_type": "stream",
          "name": "stdout",
          "text": [
            "Random number: 45\n"
          ]
        }
      ]
    },
    {
      "cell_type": "markdown",
      "source": [
        "Progarm 06 program to convert kilometers to miles"
      ],
      "metadata": {
        "id": "rX-BLGdJ5HXs"
      }
    },
    {
      "cell_type": "code",
      "source": [
        "km = float(input(\"Enter the distance in km: \"))\n",
        "miles = km * 0.621371\n",
        "print(f\"The distance in miles is: {miles}\")"
      ],
      "metadata": {
        "colab": {
          "base_uri": "https://localhost:8080/"
        },
        "id": "bp3HDR-R5xUp",
        "outputId": "d6774420-1233-4510-b743-39f2c7d68640"
      },
      "execution_count": 7,
      "outputs": [
        {
          "output_type": "stream",
          "name": "stdout",
          "text": [
            "Enter the distance in km: 100\n",
            "The distance in miles is: 62.137100000000004\n"
          ]
        }
      ]
    },
    {
      "cell_type": "markdown",
      "source": [
        "Program 07 program to convert celsius to fahrenheit"
      ],
      "metadata": {
        "id": "5uAjs5Y_56j3"
      }
    },
    {
      "cell_type": "code",
      "source": [
        "cel = float(input(\"Enter the temperature in celsius: \"))\n",
        "far = (cel * 1.8) + 32\n",
        "print(f\"The temperature in fahrenheit is: {far}\")"
      ],
      "metadata": {
        "colab": {
          "base_uri": "https://localhost:8080/"
        },
        "id": "N6eDBhlX6ltW",
        "outputId": "73f41daa-5a03-4aae-8670-1bb3ce5d2a6c"
      },
      "execution_count": 8,
      "outputs": [
        {
          "output_type": "stream",
          "name": "stdout",
          "text": [
            "Enter the temperature in celsius: 27\n",
            "The temperature in fahrenheit is: 80.6\n"
          ]
        }
      ]
    },
    {
      "cell_type": "markdown",
      "source": [
        "Program 08 code to display calender"
      ],
      "metadata": {
        "id": "vWJf0iDL6tkM"
      }
    },
    {
      "cell_type": "code",
      "source": [
        "import calendar\n",
        "year = int(input(\"Enter the year: \"))\n",
        "month = int(input(\"Enter the month: \"))\n",
        "print(calendar.month(year,month))"
      ],
      "metadata": {
        "colab": {
          "base_uri": "https://localhost:8080/"
        },
        "id": "t_iDmBCm6wQE",
        "outputId": "830dfdcc-39bb-4f46-9cc8-9bc847b270eb"
      },
      "execution_count": 9,
      "outputs": [
        {
          "output_type": "stream",
          "name": "stdout",
          "text": [
            "Enter the year: 2025\n",
            "Enter the month: 5\n",
            "      May 2025\n",
            "Mo Tu We Th Fr Sa Su\n",
            "          1  2  3  4\n",
            " 5  6  7  8  9 10 11\n",
            "12 13 14 15 16 17 18\n",
            "19 20 21 22 23 24 25\n",
            "26 27 28 29 30 31\n",
            "\n"
          ]
        }
      ]
    },
    {
      "cell_type": "markdown",
      "source": [
        "Program 09 Code to solve a quadratic equation , considering the standard form of the quadratic equation :\n",
        "$$\n",
        "ax^2 + bx + c = 0\n",
        "$$\n",
        "\n",
        "$$\n",
        "a, b, c \\in \\mathbb{R}\n",
        "$$\n",
        "\n",
        "\n",
        "$$\n",
        "a  ≠ 0\n",
        "$$"
      ],
      "metadata": {
        "id": "mIUdHAZ87AbW"
      }
    },
    {
      "cell_type": "code",
      "source": [
        "import math\n",
        "# Input coefficients\n",
        "a = float(input(\"Enter coefficient a: \"))\n",
        "b = float(input(\"Enter coefficient b: \"))\n",
        "c = float(input(\"Enter coefficient c: \"))\n",
        "# Calculate the discriminant\n",
        "discriminant = b**2 - 4*a*c\n",
        "# Check if the discriminant is positive, negative, or zero\n",
        "if discriminant > 0:\n",
        " # Two real and distinct roots\n",
        " root1 = (-b + math.sqrt(discriminant)) / (2*a)\n",
        " root2 = (-b - math.sqrt(discriminant)) / (2*a)\n",
        " print(f\"Root 1: {root1}\")\n",
        " print(f\"Root 2: {root2}\")\n",
        "elif discriminant == 0:\n",
        " # One real root (repeated)\n",
        " root = -b / (2*a)\n",
        " print(f\"Root: {root}\")\n",
        "else:\n",
        " # Complex roots\n",
        " real_part = -b / (2*a)\n",
        " imaginary_part = math.sqrt(abs(discriminant)) / (2*a)\n",
        " print(f\"Root 1: {real_part} + {imaginary_part}i\")\n",
        " print(f\"Root 2: {real_part} - {imaginary_part}i\")"
      ],
      "metadata": {
        "colab": {
          "base_uri": "https://localhost:8080/"
        },
        "id": "EV4eFvfg7FmS",
        "outputId": "be0c8db4-1a21-4e04-cdf7-dd389dd97db4"
      },
      "execution_count": 10,
      "outputs": [
        {
          "output_type": "stream",
          "name": "stdout",
          "text": [
            "Enter coefficient a: 1\n",
            "Enter coefficient b: 4\n",
            "Enter coefficient c: 8\n",
            "Root 1: -2.0 + 2.0i\n",
            "Root 2: -2.0 - 2.0i\n"
          ]
        }
      ]
    },
    {
      "cell_type": "markdown",
      "source": [
        "Program 10 code for swapping two variables without temp variable\n"
      ],
      "metadata": {
        "id": "-ZssGDpp8B0k"
      }
    },
    {
      "cell_type": "code",
      "source": [
        "a = 5\n",
        "b = 10\n",
        "# Swapping without a temporary variable\n",
        "print(\"Before swapping:\")\n",
        "print(\"a =\", a)\n",
        "print(\"b =\", b)\n",
        "a, b = b, a\n",
        "print(\"After swapping:\")\n",
        "print(\"a =\", a)\n",
        "print(\"b =\", b)\n"
      ],
      "metadata": {
        "colab": {
          "base_uri": "https://localhost:8080/"
        },
        "id": "R-Z43H3k8GSx",
        "outputId": "108b4efe-8de5-461c-a883-326693a817a5"
      },
      "execution_count": 11,
      "outputs": [
        {
          "output_type": "stream",
          "name": "stdout",
          "text": [
            "Before swapping:\n",
            "a = 5\n",
            "b = 10\n",
            "After swapping:\n",
            "a = 10\n",
            "b = 5\n"
          ]
        }
      ]
    }
  ]
}
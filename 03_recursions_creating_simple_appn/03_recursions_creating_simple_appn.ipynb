{
  "nbformat": 4,
  "nbformat_minor": 0,
  "metadata": {
    "colab": {
      "provenance": []
    },
    "kernelspec": {
      "name": "python3",
      "display_name": "Python 3"
    },
    "language_info": {
      "name": "python"
    }
  },
  "cells": [
    {
      "cell_type": "markdown",
      "source": [
        "# This notebook has various examples of recursion functiona and simple application based example like simple calculator, HCF,LCM and log etc.,\n",
        "#### This notebook can be accessd via the Github Link (https://github.com/amitvsuryavanshi04/SIC_programming_and_coding)"
      ],
      "metadata": {
        "id": "47h-wksFhoCd"
      }
    },
    {
      "cell_type": "markdown",
      "source": [
        "Program 21 Sum of natural numbers"
      ],
      "metadata": {
        "id": "ztWzlh09dnXb"
      }
    },
    {
      "cell_type": "code",
      "execution_count": 1,
      "metadata": {
        "colab": {
          "base_uri": "https://localhost:8080/"
        },
        "id": "63fCk97xdZYu",
        "outputId": "f1769e42-5af8-49b1-9660-ca98cedf25ef"
      },
      "outputs": [
        {
          "output_type": "stream",
          "name": "stdout",
          "text": [
            "Enter the limit: 100\n",
            "The sum of natural numbers up to 100 is: 5050\n"
          ]
        }
      ],
      "source": [
        "limit = int(input(\"Enter the limit: \"))\n",
        "#initialize the sum\n",
        "sum = 0;\n",
        "for i in range(1, limit + 1):\n",
        "  sum += i\n",
        "# Print the sum\n",
        "print(\"The sum of natural numbers up to\", limit, \"is:\", sum)"
      ]
    },
    {
      "cell_type": "markdown",
      "source": [
        "Program 22 finding the LCM of two input numbers"
      ],
      "metadata": {
        "id": "ms6V1SyMeKnw"
      }
    },
    {
      "cell_type": "code",
      "source": [
        "def compute_lcm(x, y):\n",
        "    if x > y:  # choose the greater number\n",
        "        greater = x\n",
        "    else:\n",
        "        greater = y\n",
        "    while(True):\n",
        "        if((greater % x == 0) and (greater % y == 0)):\n",
        "            lcm = greater\n",
        "            break\n",
        "        greater += 1\n",
        "    return lcm\n",
        "\n",
        "num1 = int(input('Enter the number: '))\n",
        "num2 = int(input('Enter the number: '))\n",
        "print(\"The L.C.M. is\", compute_lcm(num1, num2))\n"
      ],
      "metadata": {
        "colab": {
          "base_uri": "https://localhost:8080/"
        },
        "id": "nIboNLIkeQDq",
        "outputId": "17ff4ea8-a748-43cb-8879-25efcd8d08c0"
      },
      "execution_count": 5,
      "outputs": [
        {
          "output_type": "stream",
          "name": "stdout",
          "text": [
            "Enter the number: 29\n",
            "Enter the number: 38\n",
            "The L.C.M. is 1102\n"
          ]
        }
      ]
    },
    {
      "cell_type": "markdown",
      "source": [
        "Program 23 finding the HCF"
      ],
      "metadata": {
        "id": "-P9GypFRe3lL"
      }
    },
    {
      "cell_type": "code",
      "source": [
        "# define a function\n",
        "def compute_hcf(x, y):\n",
        "# choose the smaller number\n",
        "    if x > y:\n",
        "      smaller = y\n",
        "    else:\n",
        "      smaller = x\n",
        "    for i in range(1, smaller+1):\n",
        "      if((x % i == 0) and (y % i == 0)):\n",
        "        hcf = i\n",
        "    return hcf\n",
        "num1 = int(input('Enter the number: '))\n",
        "num2 = int(input('Enter the number: '))\n",
        "print(\"The H.C.F. is\", compute_hcf(num1, num2))"
      ],
      "metadata": {
        "colab": {
          "base_uri": "https://localhost:8080/"
        },
        "id": "KEm_4eH1e6sf",
        "outputId": "2ed48ddc-f767-46ee-f537-a7ca2eaef6cd"
      },
      "execution_count": 6,
      "outputs": [
        {
          "output_type": "stream",
          "name": "stdout",
          "text": [
            "Enter the number: 30\n",
            "Enter the number: 15\n",
            "The H.C.F. is 15\n"
          ]
        }
      ]
    },
    {
      "cell_type": "markdown",
      "source": [
        "Program 24 Decimanl to binary, ocatal and hexadecimal conversion"
      ],
      "metadata": {
        "id": "3VzAjlmrfFoF"
      }
    },
    {
      "cell_type": "code",
      "source": [
        "dec_num = int(input('Enter a decimal number: '))\n",
        "\n",
        "print(\"The decimal value of\", dec_num, \"is:\")\n",
        "print(bin(dec_num), \"in binary.\")\n",
        "print(oct(dec_num), \"in octal.\")\n",
        "print(hex(dec_num), \"in hexadecimal.\")"
      ],
      "metadata": {
        "colab": {
          "base_uri": "https://localhost:8080/"
        },
        "id": "ovt8WzClfIKg",
        "outputId": "97e006e1-03a1-460f-a229-3e27a582daa7"
      },
      "execution_count": 7,
      "outputs": [
        {
          "output_type": "stream",
          "name": "stdout",
          "text": [
            "Enter a decimal number: 20\n",
            "The decimal value of 20 is:\n",
            "0b10100 in binary.\n",
            "0o24 in octal.\n",
            "0x14 in hexadecimal.\n"
          ]
        }
      ]
    },
    {
      "cell_type": "markdown",
      "source": [
        "Program 25 finding the ASCII value of a character"
      ],
      "metadata": {
        "id": "R5PFdjuUfTZs"
      }
    },
    {
      "cell_type": "code",
      "source": [
        "char = str(input(\"Enter the character: \"))\n",
        "print(\"The ASCII value of '\" + char + \"' is\", ord(char))"
      ],
      "metadata": {
        "colab": {
          "base_uri": "https://localhost:8080/"
        },
        "id": "QAXKOTYpfYW-",
        "outputId": "d77e1b19-9505-4097-b8fc-7994adcea860"
      },
      "execution_count": 11,
      "outputs": [
        {
          "output_type": "stream",
          "name": "stdout",
          "text": [
            "Enter the character: i\n",
            "The ASCII value of 'i' is 105\n"
          ]
        }
      ]
    },
    {
      "cell_type": "markdown",
      "source": [
        "Program 26 making a simple calculator with 4 basic mathematical operations"
      ],
      "metadata": {
        "id": "CKutn3o5fnT2"
      }
    },
    {
      "cell_type": "code",
      "source": [
        "def add(x,y):\n",
        "  return x + y\n",
        "\n",
        "def substract(x,y):\n",
        "  return x - y\n",
        "\n",
        "def multiply(x,y):\n",
        "  return x * y\n",
        "\n",
        "def divide(x,y):\n",
        "  return x / y\n",
        "\n",
        "print(\"Select operation.\")\n",
        "print(\"1.Add\")\n",
        "print(\"2.Substract\")\n",
        "print(\"3.Multiply\")\n",
        "print(\"4.Divide\")\n",
        "\n",
        "while True:\n",
        "  choice = input(\"Enter choice(1/2/3/4): \")\n",
        "  if choice in ('1', '2', '3', '4'):\n",
        "    try:\n",
        "      num1 = float(input(\"Enter first number: \"))\n",
        "      num2 = float(input(\"Enter second number: \"))\n",
        "    except ValueError:\n",
        "      print(\"Invalid input. Please enter a number.\")\n",
        "      continue\n",
        "    if choice == '1':\n",
        "      print(num1, \"+\", num2, \"=\", add(num1, num2))\n",
        "    elif choice == '2':\n",
        "      print(num1, \"-\", num2, \"=\", substract(num1, num2))\n",
        "    elif choice == '3':\n",
        "      print(num1, \"*\", num2, \"=\", multiply(num1, num2))\n",
        "    elif choice == '4':\n",
        "      print(num1, \"/\", num2, \"=\", divide(num1, num2))\n",
        "    next_cal = input(\"Let's do next calculation? (yes/no): \")\n",
        "    if next_cal == \"no\":\n",
        "      break\n",
        "  else:\n",
        "    print(\"Invalid Input\")\n"
      ],
      "metadata": {
        "colab": {
          "base_uri": "https://localhost:8080/"
        },
        "id": "QpvZMZwmfi7l",
        "outputId": "de816891-9faf-41f9-e7ba-0fb381ea7dc0"
      },
      "execution_count": 12,
      "outputs": [
        {
          "name": "stdout",
          "output_type": "stream",
          "text": [
            "Select operation.\n",
            "1.Add\n",
            "2.Substract\n",
            "3.Multiply\n",
            "4.Divide\n",
            "Enter choice(1/2/3/4): 1\n",
            "Enter first number: 20\n",
            "Enter second number: 30\n",
            "20.0 + 30.0 = 50.0\n",
            "Let's do next calculation? (yes/no): yes\n",
            "Enter choice(1/2/3/4): 3\n",
            "Enter first number: 20\n",
            "Enter second number: 2\n",
            "20.0 * 2.0 = 40.0\n",
            "Let's do next calculation? (yes/no): no\n"
          ]
        }
      ]
    },
    {
      "cell_type": "markdown",
      "source": [
        "Program 27 fibonacci sequence using Recursion"
      ],
      "metadata": {
        "id": "z6jpfnQzgfjj"
      }
    },
    {
      "cell_type": "code",
      "source": [
        "def recur_fibo(n):\n",
        "  if n <= 1:\n",
        "    return n\n",
        "  else:\n",
        "    return(recur_fibo(n-1) + recur_fibo(n-2))\n",
        "nterms = int(input(\"Enter the number of terms (greater than 0): \"))\n",
        "# check if the number of terms is valid\n",
        "if nterms <= 0:\n",
        "  print(\"Plese enter a positive integer\")\n",
        "else:\n",
        "  print(\"Fibonacci sequence:\")\n",
        "  for i in range(nterms):\n",
        "    print(recur_fibo(i))"
      ],
      "metadata": {
        "colab": {
          "base_uri": "https://localhost:8080/"
        },
        "id": "VCDp3vNZgknT",
        "outputId": "7c6b4e78-52d3-4fa9-b650-8836f92c57b6"
      },
      "execution_count": 13,
      "outputs": [
        {
          "output_type": "stream",
          "name": "stdout",
          "text": [
            "Enter the number of terms (greater than 0): 20\n",
            "Fibonacci sequence:\n",
            "0\n",
            "1\n",
            "1\n",
            "2\n",
            "3\n",
            "5\n",
            "8\n",
            "13\n",
            "21\n",
            "34\n",
            "55\n",
            "89\n",
            "144\n",
            "233\n",
            "377\n",
            "610\n",
            "987\n",
            "1597\n",
            "2584\n",
            "4181\n"
          ]
        }
      ]
    },
    {
      "cell_type": "markdown",
      "source": [
        "Program 28 factorial using recursion"
      ],
      "metadata": {
        "id": "i3ynM8pIgwBI"
      }
    },
    {
      "cell_type": "code",
      "source": [
        "# Factorial of a number using recursion\n",
        "def recur_factorial(n):\n",
        "  if n == 1:\n",
        "    return n\n",
        "  else:\n",
        "    return n*recur_factorial(n-1)\n",
        "num = int(input(\"Enter the number: \"))\n",
        "# check if the number is negative\n",
        "if num < 0:\n",
        "  print(\"Sorry, factorial does not exist for negative numbers\")\n",
        "elif num == 0:\n",
        "  print(\"The factorial of 0 is 1\")\n",
        "else:\n",
        "  print(\"The factorial of\", num, \"is\", recur_factorial(num))"
      ],
      "metadata": {
        "colab": {
          "base_uri": "https://localhost:8080/"
        },
        "id": "0r7wNe2agzef",
        "outputId": "e1069ba5-1cb2-40a0-b443-966f3e9f544a"
      },
      "execution_count": 15,
      "outputs": [
        {
          "output_type": "stream",
          "name": "stdout",
          "text": [
            "Enter the number: 10\n",
            "The factorial of 10 is 3628800\n"
          ]
        }
      ]
    },
    {
      "cell_type": "markdown",
      "source": [
        "Program 29 calculation of body mass index"
      ],
      "metadata": {
        "id": "UmYIw8h4g8vr"
      }
    },
    {
      "cell_type": "code",
      "source": [
        "def bodymassindex(height, weight):\n",
        "  return round((weight / height**2),2)\n",
        "h = float(input(\"Enter your height in meters: \"))\n",
        "w = float(input(\"Enter your weight in kg: \"))\n",
        "print(\"Welcome to the BMI calculator.\")\n",
        "bmi = bodymassindex(h, w)\n",
        "print(\"Your BMI is: \", bmi)\n",
        "if bmi <= 18.5:\n",
        "  print(\"You are underweight.\")\n",
        "elif 18.5 < bmi <= 24.9:\n",
        "  print(\"Your weight is normal.\")\n",
        "elif 25 < bmi <= 29.29:\n",
        "  print(\"You are overweight.\")\n",
        "else:\n",
        "  print(\"You are obese.\")"
      ],
      "metadata": {
        "colab": {
          "base_uri": "https://localhost:8080/"
        },
        "id": "KWuAZDJrg_ZF",
        "outputId": "9b74d1dd-2a7b-4228-ea7d-b2b6a29ca754"
      },
      "execution_count": 20,
      "outputs": [
        {
          "output_type": "stream",
          "name": "stdout",
          "text": [
            "Enter your height in meters: 1.8\n",
            "Enter your weight in kg: 70\n",
            "Welcome to the BMI calculator.\n",
            "Your BMI is:  21.6\n",
            "Your weight is normal.\n"
          ]
        }
      ]
    },
    {
      "cell_type": "markdown",
      "source": [
        "Program 30 calculation of natural logarithm of any number"
      ],
      "metadata": {
        "id": "rI_KsKpJhQJC"
      }
    },
    {
      "cell_type": "code",
      "source": [
        "import math\n",
        "num = float(input(\"Enter a number: \"))\n",
        "if num <= 0:\n",
        "  print(\"Please enter a positive number.\")\n",
        "else:\n",
        "# Calculate the natural logarithm (base e) of the number\n",
        "  result = math.log(num)\n",
        "print(f\"The natural logarithm of {num} is: {result}\")"
      ],
      "metadata": {
        "colab": {
          "base_uri": "https://localhost:8080/"
        },
        "id": "dOsbe82jhTy0",
        "outputId": "245605d5-84ea-4d73-c6db-ed63b4db1308"
      },
      "execution_count": 24,
      "outputs": [
        {
          "output_type": "stream",
          "name": "stdout",
          "text": [
            "Enter a number: 2\n",
            "The natural logarithm of 2.0 is: 0.6931471805599453\n"
          ]
        }
      ]
    }
  ]
}
{
  "nbformat": 4,
  "nbformat_minor": 0,
  "metadata": {
    "colab": {
      "provenance": []
    },
    "kernelspec": {
      "name": "python3",
      "display_name": "Python 3"
    },
    "language_info": {
      "name": "python"
    }
  },
  "cells": [
    {
      "cell_type": "markdown",
      "source": [
        "#This notebook contains the various examples for the conditional and loop statements\n",
        "This notebook can be accessd via the Github Link (https://github.com/amitvsuryavanshi04/SIC_programming_and_coding)"
      ],
      "metadata": {
        "id": "dN9psaNjKL8l"
      }
    },
    {
      "cell_type": "markdown",
      "source": [
        "Program 11 program to check if a number is positive, negative or zero"
      ],
      "metadata": {
        "id": "84BccPlpDUsC"
      }
    },
    {
      "cell_type": "code",
      "execution_count": 2,
      "metadata": {
        "colab": {
          "base_uri": "https://localhost:8080/",
          "height": 0
        },
        "id": "nn8X_YVmDEB_",
        "outputId": "4f39d6a9-ff27-474a-ede6-4354637ebd8b"
      },
      "outputs": [
        {
          "output_type": "stream",
          "name": "stdout",
          "text": [
            "Enter a number to be check +/-/0: 20\n",
            "Positive number\n"
          ]
        }
      ],
      "source": [
        "num = float(input(\"Enter a number to be check +/-/0: \"))\n",
        "if num > 0 :\n",
        "  print(\"Positive number\")\n",
        "elif num == 0 :\n",
        "  print(\"Zero\")\n",
        "else :\n",
        "  print(\"Negative number\")"
      ]
    },
    {
      "cell_type": "markdown",
      "source": [
        "Program 12 to check if a number is odd or even"
      ],
      "metadata": {
        "id": "Dg1xe0TfDm7z"
      }
    },
    {
      "cell_type": "code",
      "source": [
        "num = int(input(\"Enter a number to be check odd/even: \"))\n",
        "if (num % 2) == 0 :\n",
        "  print(\"{0} is Even\".format(num))\n",
        "else :\n",
        "  print(\"{0} is Odd\".format(num))"
      ],
      "metadata": {
        "colab": {
          "base_uri": "https://localhost:8080/",
          "height": 0
        },
        "id": "Yk3h_TutDuwT",
        "outputId": "4385dbf0-7fc5-4397-bd19-515116833f67"
      },
      "execution_count": 3,
      "outputs": [
        {
          "output_type": "stream",
          "name": "stdout",
          "text": [
            "Enter a number to be check odd/even: 20\n",
            "20 is Even\n"
          ]
        }
      ]
    },
    {
      "cell_type": "markdown",
      "source": [
        "Program 13 to check a year is leap or not"
      ],
      "metadata": {
        "id": "uBttWTrpD1ic"
      }
    },
    {
      "cell_type": "code",
      "source": [
        "year = int(input(\"Enter a year: \"))\n",
        "if year % 4 == 0 and year % 100 != 0 or year % 400 == 0:\n",
        "    print(f\"{year} is a leap year.\")\n",
        "else:\n",
        "    print(f\"{year} is not a leap year.\")"
      ],
      "metadata": {
        "colab": {
          "base_uri": "https://localhost:8080/",
          "height": 0
        },
        "id": "A_OJLsP6D6O3",
        "outputId": "b4376f02-c783-4955-87c0-94fd4e495c80"
      },
      "execution_count": 6,
      "outputs": [
        {
          "output_type": "stream",
          "name": "stdout",
          "text": [
            "Enter a year: 2025\n",
            "2025 is not a leap year.\n"
          ]
        }
      ]
    },
    {
      "cell_type": "markdown",
      "source": [
        "Program 14 program to check number is prime or not,\n",
        "$$\n",
        "p \\in \\mathbb{N},\\ p > 1,\\ \\text{and} \\ \\forall d \\in \\mathbb{N},\\ (d \\mid p) \\Rightarrow (d = 1 \\ \\text{or} \\ d = p)\n",
        "$$\n"
      ],
      "metadata": {
        "id": "GfGiDXA_EDsd"
      }
    },
    {
      "cell_type": "code",
      "source": [
        "num = int(input(\"Enter a number: \"))\n",
        "# define a flag variable\n",
        "flag = False\n",
        "if num == 1:\n",
        " print(f\"{num}, is not a prime number\")\n",
        "elif num > 1:\n",
        " # check for factors\n",
        "  for i in range(2, num):\n",
        "    if (num % i) == 0:\n",
        "        flag = True # if factor is found, set flag to True\n",
        " # break out of loop\n",
        "        break\n",
        " # check if flag is True\n",
        "if flag:\n",
        " print(f\"{num}, is not a prime number\")\n",
        "else:\n",
        " print(f\"{num}, is a prime number\")\n"
      ],
      "metadata": {
        "colab": {
          "base_uri": "https://localhost:8080/",
          "height": 0
        },
        "id": "VJkKnVQuEIGK",
        "outputId": "0617dec8-6c12-489c-f2a9-f5fbb9bdcb06"
      },
      "execution_count": 9,
      "outputs": [
        {
          "output_type": "stream",
          "name": "stdout",
          "text": [
            "Enter a number: 263\n",
            "263, is a prime number\n"
          ]
        }
      ]
    },
    {
      "cell_type": "markdown",
      "source": [
        "Program 15 number to print all prime numbers between a particular interval"
      ],
      "metadata": {
        "id": "mwxX1oAdFI2P"
      }
    },
    {
      "cell_type": "code",
      "source": [
        "low_value = 1\n",
        "upper_value = 25\n",
        "\n",
        "print(\"Prime numbers between {0} and {1} are :\".format(low_value, upper_value))\n",
        "for num in range(low_value, upper_value + 1):\n",
        "  if num > 1:\n",
        "    for i in range(2, num):\n",
        "      if (num % i) == 0:\n",
        "        break\n",
        "    else:\n",
        "      print(num)"
      ],
      "metadata": {
        "colab": {
          "base_uri": "https://localhost:8080/",
          "height": 0
        },
        "id": "bPPeh6jIFNlm",
        "outputId": "321c037c-826f-42ed-e5fc-190aaccfb102"
      },
      "execution_count": 13,
      "outputs": [
        {
          "output_type": "stream",
          "name": "stdout",
          "text": [
            "Prime numbers between 1 and 25 are :\n",
            "2\n",
            "3\n",
            "5\n",
            "7\n",
            "11\n",
            "13\n",
            "17\n",
            "19\n",
            "23\n"
          ]
        }
      ]
    },
    {
      "cell_type": "markdown",
      "source": [
        "Program 16 to find the factorial of a number\n",
        "$$\n",
        "n! =\n",
        "\\begin{cases}\n",
        "1, & \\text{if } n = 0 \\\\\n",
        "n \\cdot (n-1)!, & \\text{if } n > 0\n",
        "\\end{cases}\n",
        "$$"
      ],
      "metadata": {
        "id": "IqBfG_qTFi7n"
      }
    },
    {
      "cell_type": "code",
      "source": [
        "num = int(input(\"Enter a number: \"))\n",
        "factorial = 1\n",
        "if num <0:\n",
        "  print(\"Factirial does not exist for negative numbers\")\n",
        "elif num == 0:\n",
        "  print(\"Factorial of 0 is 1\")\n",
        "else:\n",
        "  for i in range(1, num+1):\n",
        "      factorial = factorial*i\n",
        "  print(f'The factorial of {num} is {factorial}')\n"
      ],
      "metadata": {
        "colab": {
          "base_uri": "https://localhost:8080/",
          "height": 0
        },
        "id": "ZaxVHkNcGdSg",
        "outputId": "d3c71329-e79c-4576-fa06-d3a95eec6175"
      },
      "execution_count": 16,
      "outputs": [
        {
          "output_type": "stream",
          "name": "stdout",
          "text": [
            "Enter a number: 6\n",
            "The factorial of 6 is 720\n"
          ]
        }
      ]
    },
    {
      "cell_type": "markdown",
      "source": [
        "Program 17 to display a multiplication table"
      ],
      "metadata": {
        "id": "IDZbZVOUGrVy"
      }
    },
    {
      "cell_type": "code",
      "source": [
        "num = int(input(\"Display the Multiplication table of : \"))\n",
        "\n",
        "for i in range (1,11):\n",
        "  print(f\"{num} X {i} = {num*i}\")"
      ],
      "metadata": {
        "colab": {
          "base_uri": "https://localhost:8080/",
          "height": 0
        },
        "id": "mgFNjNgQG3Fd",
        "outputId": "7507a0da-c191-4788-a244-f50b687d9f9d"
      },
      "execution_count": 17,
      "outputs": [
        {
          "output_type": "stream",
          "name": "stdout",
          "text": [
            "Display the Multiplication table of : 12\n",
            "12 X 1 = 12\n",
            "12 X 2 = 24\n",
            "12 X 3 = 36\n",
            "12 X 4 = 48\n",
            "12 X 5 = 60\n",
            "12 X 6 = 72\n",
            "12 X 7 = 84\n",
            "12 X 8 = 96\n",
            "12 X 9 = 108\n",
            "12 X 10 = 120\n"
          ]
        }
      ]
    },
    {
      "cell_type": "markdown",
      "source": [
        "Program 18 program to print fibonacci sequence\n",
        "$$\n",
        "F_n = \\begin{cases}\n",
        "0, & \\text{if } n = 0 \\\\\n",
        "1, & \\text{if } n = 1 \\\\\n",
        "F_{n-1} + F_{n-2}, & \\text{if } n > 1\n",
        "\\end{cases}\n",
        "$$"
      ],
      "metadata": {
        "id": "emDp8NR5HJmr"
      }
    },
    {
      "cell_type": "code",
      "source": [
        "nt = int(input(\"How many terms? \"))\n",
        "n1, n2 = 0, 1\n",
        "count = 0\n",
        "\n",
        "if nt <= 0:\n",
        "  print(\"!! Please Enter a positive integer !!\")\n",
        "elif nt == 1:\n",
        "  print(\"Fibonacci sequence upto\",nt,\":\")\n",
        "  print(n1)\n",
        "else:\n",
        "  print(\"Fibonacci sequence:\")\n",
        "  while count < nt:\n",
        "    print(n1)\n",
        "    nth = n1 + n2\n",
        "    n1 = n2\n",
        "    n2 = nth\n",
        "    count += 1"
      ],
      "metadata": {
        "colab": {
          "base_uri": "https://localhost:8080/",
          "height": 0
        },
        "id": "0U_ABVkAHq8j",
        "outputId": "9700d82b-ea58-4595-a08c-600828554e80"
      },
      "execution_count": 20,
      "outputs": [
        {
          "output_type": "stream",
          "name": "stdout",
          "text": [
            "How many terms? 10\n",
            "Fibonacci sequence:\n",
            "0\n",
            "1\n",
            "1\n",
            "2\n",
            "3\n",
            "5\n",
            "8\n",
            "13\n",
            "21\n",
            "34\n"
          ]
        }
      ]
    },
    {
      "cell_type": "markdown",
      "source": [
        "Program 19 python program to check Armstrong number ?\n",
        "$$\n",
        "\\text{A number } N \\text{ with } n \\text{ digits is Armstrong } \\iff N = \\sum_{i=1}^{n} d_i^n\n",
        "$$\n"
      ],
      "metadata": {
        "id": "kDA1iJ9KIP15"
      }
    },
    {
      "cell_type": "code",
      "source": [
        "num = int(input(\"Enter a number: \"))\n",
        "# Calculate the number of digits in num\n",
        "num_str = str(num)\n",
        "num_digits = len(num_str)\n",
        "# Initialize variables\n",
        "sum_of_powers = 0\n",
        "temp_num = num\n",
        "# Calculate the sum of digits raised to the power of num_digits\n",
        "while temp_num > 0:\n",
        "  digit = temp_num % 10\n",
        "  sum_of_powers += digit ** num_digits\n",
        "  temp_num //= 10\n",
        "# Check if it's an Armstrong number\n",
        "if sum_of_powers == num:\n",
        "  print(f\"{num} is an Armstrong number.\")\n",
        "else:\n",
        "  print(f\"{num} is not an Armstrong number.\")\n"
      ],
      "metadata": {
        "colab": {
          "base_uri": "https://localhost:8080/",
          "height": 0
        },
        "id": "qNxak9g2Ij7k",
        "outputId": "8476f166-0a7e-4b1b-8caf-e719483528ee"
      },
      "execution_count": 23,
      "outputs": [
        {
          "output_type": "stream",
          "name": "stdout",
          "text": [
            "Enter a number: 9474\n",
            "9474 is an Armstrong number.\n"
          ]
        }
      ]
    },
    {
      "cell_type": "markdown",
      "source": [
        "Program 20 to print armstrong number in an interval"
      ],
      "metadata": {
        "id": "TpKg8jeHIwTt"
      }
    },
    {
      "cell_type": "code",
      "source": [
        "# Input the interval from the user\n",
        "lower = int(input(\"Enter the lower limit of the interval: \"))\n",
        "upper = int(input(\"Enter the upper limit of the interval: \"))\n",
        "for num in range(lower, upper + 1): # Iterate through the numbers i\n",
        "  order = len(str(num)) # Find the number of digits in 'num'\n",
        "  temp_num = num\n",
        "  sum = 0\n",
        "  while temp_num > 0:\n",
        "    digit = temp_num % 10\n",
        "    sum += digit ** order\n",
        "    temp_num //= 10\n",
        " # Check if 'num' is an Armstrong number\n",
        "  if num == sum:\n",
        "    print(num)\n"
      ],
      "metadata": {
        "colab": {
          "base_uri": "https://localhost:8080/",
          "height": 0
        },
        "id": "QBVH51NKJA2P",
        "outputId": "9ce62670-9f06-466f-d2ed-da03b9a50988"
      },
      "execution_count": 24,
      "outputs": [
        {
          "output_type": "stream",
          "name": "stdout",
          "text": [
            "Enter the lower limit of the interval: 10\n",
            "Enter the upper limit of the interval: 1000\n",
            "153\n",
            "370\n",
            "371\n",
            "407\n"
          ]
        }
      ]
    }
  ]
}
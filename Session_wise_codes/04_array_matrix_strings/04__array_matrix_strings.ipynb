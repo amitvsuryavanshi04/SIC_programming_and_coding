{
  "nbformat": 4,
  "nbformat_minor": 0,
  "metadata": {
    "colab": {
      "provenance": []
    },
    "kernelspec": {
      "name": "python3",
      "display_name": "Python 3"
    },
    "language_info": {
      "name": "python"
    }
  },
  "cells": [
    {
      "cell_type": "markdown",
      "source": [
        "#This notebook contains various examples related to following concepts\n",
        "### Strings, arrays , matrices and its operations and strings with it's operations\n",
        "#### The notebook can be viewed at (https://github.com/amitvsuryavanshi04/SIC_programming_and_coding)"
      ],
      "metadata": {
        "id": "Zjdjsf6emCDX"
      }
    },
    {
      "cell_type": "markdown",
      "source": [
        "Program 31 code to get cube sum of first n natural numbers\n",
        "ex 1^3 + 2^3 +3^3 = 1+8+27 = 36"
      ],
      "metadata": {
        "id": "PDgXusURmBo7"
      }
    },
    {
      "cell_type": "code",
      "execution_count": 2,
      "metadata": {
        "colab": {
          "base_uri": "https://localhost:8080/",
          "height": 0
        },
        "id": "1ZBx55gomAf7",
        "outputId": "56db21f8-bbcc-4c05-e195-e86a30729368"
      },
      "outputs": [
        {
          "output_type": "stream",
          "name": "stdout",
          "text": [
            "Enter the value of n: 3\n",
            "The cube sum of the first 3 natural numbers is: 36\n"
          ]
        }
      ],
      "source": [
        "def cube_sum_of_natural_numbers(n):\n",
        "  if n <= 0:\n",
        "    return 0\n",
        "  else:\n",
        "    total = sum([i**3 for i in range(1,n+1)])\n",
        "    return total\n",
        "\n",
        "#input the number of natural numbers\n",
        "n = int(input (\"Enter the value of n: \"))\n",
        "\n",
        "if n <= 0:\n",
        "  print(\"Please enter a positive integer.\")\n",
        "else:\n",
        "  result = cube_sum_of_natural_numbers(n)\n",
        "  print(f\"The cube sum of the first {n} natural numbers is: {result}\")"
      ]
    },
    {
      "cell_type": "markdown",
      "source": [
        "Program 32 to find sum of array."
      ],
      "metadata": {
        "id": "F0UiJkoKoDHo"
      }
    },
    {
      "cell_type": "code",
      "source": [
        "# Finding Sum of Array Using sum()\n",
        "arr = [1,2,3]\n",
        "ans = sum(arr)\n",
        "print('Sum of the array is ', ans)"
      ],
      "metadata": {
        "colab": {
          "base_uri": "https://localhost:8080/",
          "height": 0
        },
        "id": "DDRQB_oroNKD",
        "outputId": "93eb9c0b-3fdb-40d7-9663-ebbe17bd2eab"
      },
      "execution_count": 3,
      "outputs": [
        {
          "output_type": "stream",
          "name": "stdout",
          "text": [
            "Sum of the array is  6\n"
          ]
        }
      ]
    },
    {
      "cell_type": "code",
      "source": [
        "# Function to find the sum of elements in an array\n",
        "def sum_of_array(arr):\n",
        "  total = 0 # Initialize a variable to store the sum\n",
        "  for element in arr:\n",
        "    total += element # Add each element to the total\n",
        "  return total\n",
        "# Example usage:\n",
        "array = [1, 2, 3]\n",
        "result = sum_of_array(array)\n",
        "print(\"Sum of the array:\", result)"
      ],
      "metadata": {
        "colab": {
          "base_uri": "https://localhost:8080/",
          "height": 0
        },
        "id": "XG9OkKRXoVWR",
        "outputId": "56fab0ec-ea70-4f34-f6f8-bc2f8c0a4366"
      },
      "execution_count": 4,
      "outputs": [
        {
          "output_type": "stream",
          "name": "stdout",
          "text": [
            "Sum of the array: 6\n"
          ]
        }
      ]
    },
    {
      "cell_type": "markdown",
      "source": [
        "Program 33 to find the largest element in an array."
      ],
      "metadata": {
        "id": "xhsdAbf-obXv"
      }
    },
    {
      "cell_type": "code",
      "source": [
        "def find_largest_element(arr):\n",
        "  if not arr:\n",
        "    return \"Array is empty\"\n",
        "# Initialize the first element as the largest\n",
        "  largest_element = arr[0]\n",
        "# Iterate through the array to find the largest element\n",
        "  for element in arr:\n",
        "    if element > largest_element:\n",
        "      largest_element = element\n",
        "  return largest_element\n",
        "# Example usage:\n",
        "my_array = [10, 20, 30, 99]\n",
        "result = find_largest_element(my_array)\n",
        "print(f\"The largest element in the array is: {result}\")"
      ],
      "metadata": {
        "colab": {
          "base_uri": "https://localhost:8080/",
          "height": 0
        },
        "id": "YsQKAJDjogwT",
        "outputId": "f558abda-5124-4c63-cf3d-fd3a9a771a89"
      },
      "execution_count": 5,
      "outputs": [
        {
          "output_type": "stream",
          "name": "stdout",
          "text": [
            "The largest element in the array is: 99\n"
          ]
        }
      ]
    },
    {
      "cell_type": "markdown",
      "source": [
        "Program 34 for array rotation"
      ],
      "metadata": {
        "id": "pgDuJdDWoqHv"
      }
    },
    {
      "cell_type": "code",
      "source": [
        "def rotate_array(arr, d):\n",
        "    n = len(arr)\n",
        "    # Check if 'd' is valid, it should be within the range of array len\n",
        "    if d < 0 or d >= n:\n",
        "        return \"Invalid rotation value\"\n",
        "\n",
        "    # Create a new array to store the rotated elements.\n",
        "    rotated_arr = [0] * n\n",
        "\n",
        "    # Perform the rotation.\n",
        "    for i in range(n):\n",
        "        rotated_arr[i] = arr[(i + d) % n]\n",
        "\n",
        "    return rotated_arr\n",
        "\n",
        "# Input array\n",
        "arr = [1, 2, 3, 4, 5]\n",
        "# Number of positions to rotate\n",
        "d = 3\n",
        "# Call the rotate_array function\n",
        "result = rotate_array(arr, d)\n",
        "# Print the rotated array\n",
        "print(\"Original Array:\", arr)\n",
        "print(\"Rotated Array:\", result)\n"
      ],
      "metadata": {
        "colab": {
          "base_uri": "https://localhost:8080/",
          "height": 0
        },
        "id": "zuYXAtu1otHH",
        "outputId": "36568e64-8a6b-49da-e560-fb296c346bde"
      },
      "execution_count": 9,
      "outputs": [
        {
          "output_type": "stream",
          "name": "stdout",
          "text": [
            "Original Array: [1, 2, 3, 4, 5]\n",
            "Rotated Array: [4, 5, 1, 2, 3]\n"
          ]
        }
      ]
    },
    {
      "cell_type": "markdown",
      "source": [
        "Program 35 split the array and add the first part to the end ?"
      ],
      "metadata": {
        "id": "ShxdJYyApPlw"
      }
    },
    {
      "cell_type": "code",
      "source": [
        "def split_and_add(arr, k):\n",
        "  if k <= 0 or k >= len(arr):\n",
        "    return arr\n",
        "# Split the array into two parts\n",
        "  first_part = arr[:k]\n",
        "  second_part = arr[k:]\n",
        "# Add the first part to the end of the second part\n",
        "  result = second_part + first_part\n",
        "  return result\n",
        "# Test the function\n",
        "arr = [1, 2, 3, 4, 5]\n",
        "k = 3\n",
        "result = split_and_add(arr, k)\n",
        "print(\"Original Array:\", arr)\n",
        "print(\"Array after splitting and adding:\", result)"
      ],
      "metadata": {
        "colab": {
          "base_uri": "https://localhost:8080/",
          "height": 0
        },
        "id": "pKOzoC3ypX5y",
        "outputId": "4ecaf892-a8df-4a93-c8a0-cf728da9adef"
      },
      "execution_count": 10,
      "outputs": [
        {
          "output_type": "stream",
          "name": "stdout",
          "text": [
            "Original Array: [1, 2, 3, 4, 5]\n",
            "Array after splitting and adding: [4, 5, 1, 2, 3]\n"
          ]
        }
      ]
    },
    {
      "cell_type": "markdown",
      "source": [
        "Program 36 to check if given array is monotonic or not ?\n",
        "A monotonic array is that which is entirely either non-increasing , or non-decreasing"
      ],
      "metadata": {
        "id": "hY6CfgppplYD"
      }
    },
    {
      "cell_type": "code",
      "source": [
        "def is_monotonic(arr):\n",
        "  increasing = decreasing = True\n",
        "  for i in range(1, len(arr)):\n",
        "    if arr[i] > arr[i - 1]:\n",
        "      decreasing = False\n",
        "    elif arr[i] < arr[i - 1]:\n",
        "      increasing = False\n",
        "  return increasing or decreasing\n",
        "# Test the function\n",
        "arr1 = [1, 2, 2, 3] # Monotonic (non-decreasing)\n",
        "arr2 = [3, 2, 1] # Monotonic (non-increasing)\n",
        "arr3 = [1, 3, 2, 4] # Not monotonic\n",
        "print(\"arr1 is monotonic:\", is_monotonic(arr1))\n",
        "print(\"arr2 is monotonic:\", is_monotonic(arr2))\n",
        "print(\"arr3 is monotonic:\", is_monotonic(arr3))"
      ],
      "metadata": {
        "colab": {
          "base_uri": "https://localhost:8080/",
          "height": 0
        },
        "id": "tzJ4DTvCpyk7",
        "outputId": "c5954125-2206-4b02-8a87-4b6768522757"
      },
      "execution_count": 11,
      "outputs": [
        {
          "output_type": "stream",
          "name": "stdout",
          "text": [
            "arr1 is monotonic: True\n",
            "arr2 is monotonic: True\n",
            "arr3 is monotonic: False\n"
          ]
        }
      ]
    },
    {
      "cell_type": "markdown",
      "source": [
        "Program 37 to add two matrices\n"
      ],
      "metadata": {
        "id": "ylNRyn6Cp5b1"
      }
    },
    {
      "cell_type": "code",
      "source": [
        "# Function to add two matrices\n",
        "def add_matrices(mat1, mat2):\n",
        "# Check if the matrices have the same dimensions\n",
        "  if len(mat1) != len(mat2) or len(mat1[0]) != len(mat2[0]):\n",
        "    return \"Matrices must have the same dimensions for addition\"\n",
        "# Initialize an empty result matrix with the same dimensions\n",
        "  result = []\n",
        "  for i in range(len(mat1)):\n",
        "    row = []\n",
        "    for j in range(len(mat1[0])):\n",
        "      row.append(mat1[i][j] + mat2[i][j])\n",
        "    result.append(row)\n",
        "  return result\n",
        "# Input matrices\n",
        "matrix1 = [\n",
        "[1, 2, 3],\n",
        "[4, 5, 6],\n",
        "[7, 8, 9]\n",
        "]\n",
        "matrix2 = [\n",
        "[9, 8, 7],\n",
        "[6, 5, 4],\n",
        "[3, 2, 1]\n",
        "]\n",
        "# Call the add_matrices function\n",
        "result_matrix = add_matrices(matrix1, matrix2)\n",
        "# Display the result\n",
        "if isinstance(result_matrix, str):\n",
        "  print(result_matrix)\n",
        "else:\n",
        "  print(\"Sum of matrices:\")\n",
        "for row in result_matrix:\n",
        "  print(row)"
      ],
      "metadata": {
        "colab": {
          "base_uri": "https://localhost:8080/",
          "height": 0
        },
        "id": "RF6DyV9ap_eZ",
        "outputId": "2f96368b-4c95-4e8f-94d8-900171dfa5d3"
      },
      "execution_count": 12,
      "outputs": [
        {
          "output_type": "stream",
          "name": "stdout",
          "text": [
            "Sum of matrices:\n",
            "[10, 10, 10]\n",
            "[10, 10, 10]\n",
            "[10, 10, 10]\n"
          ]
        }
      ]
    },
    {
      "cell_type": "markdown",
      "source": [
        "Program 38 to multiply two matrices"
      ],
      "metadata": {
        "id": "f4w6wQy1qMDE"
      }
    },
    {
      "cell_type": "code",
      "source": [
        "def multiply_matrices(mat1, mat2):\n",
        "# Determine the dimensions of the input matrices\n",
        "  rows1 = len(mat1)\n",
        "  cols1 = len(mat1[0])\n",
        "  rows2 = len(mat2)\n",
        "  cols2 = len(mat2[0])\n",
        "# Check if multiplication is possible\n",
        "  if cols1 != rows2:\n",
        "    return \"Matrix multiplication is not possible. Number of column\"\n",
        "# Initialize the result matrix with zeros\n",
        "  result = [[0 for _ in range(cols2)] for _ in range(rows1)]\n",
        "# Perform matrix multiplication\n",
        "  for i in range(rows1):\n",
        "    for j in range(cols2):\n",
        "      for k in range(cols1):\n",
        "        result[i][j] += mat1[i][k] * mat2[k][j]\n",
        "  return result\n",
        "# Example matrices\n",
        "matrix1 = [[1, 2, 3],\n",
        "           [4, 5, 6]]\n",
        "matrix2 = [[7, 8],\n",
        "           [9, 10],\n",
        "           [11, 12]]\n",
        "# Multiply the matrices\n",
        "result_matrix = multiply_matrices(matrix1, matrix2)\n",
        "# Display the result\n",
        "if isinstance(result_matrix, str):\n",
        "  print(result_matrix)\n",
        "else:\n",
        "  print(\"Result of matrix multiplication:\")\n",
        "for row in result_matrix:\n",
        "  print(row)"
      ],
      "metadata": {
        "colab": {
          "base_uri": "https://localhost:8080/",
          "height": 0
        },
        "id": "Tt0K4wffp9Cd",
        "outputId": "aa6ef791-808f-4cd3-d2cf-eb4613fdcc50"
      },
      "execution_count": 15,
      "outputs": [
        {
          "output_type": "stream",
          "name": "stdout",
          "text": [
            "Result of matrix multiplication:\n",
            "[58, 64]\n",
            "[139, 154]\n"
          ]
        }
      ]
    },
    {
      "cell_type": "markdown",
      "source": [
        "Program 39 code for transpose of a matrix"
      ],
      "metadata": {
        "id": "-VftPN2RqzWn"
      }
    },
    {
      "cell_type": "code",
      "source": [
        "# Function to transpose a matrix\n",
        "def transpose_matrix(matrix):\n",
        "  rows, cols = len(matrix), len(matrix[0])\n",
        "# Create an empty matrix to store the transposed data\n",
        "  result = [[0 for _ in range(rows)] for _ in range(cols)]\n",
        "  for i in range(rows):\n",
        "    for j in range(cols):\n",
        "      result[j][i] = matrix[i][j]\n",
        "  return result\n",
        "# Input matrix\n",
        "matrix = [\n",
        "[1, 2, 3],\n",
        "[4, 5, 6]\n",
        "]\n",
        "# Transpose the matrix\n",
        "transposed_matrix = transpose_matrix(matrix)\n",
        "# Print the transposed matrix\n",
        "for row in transposed_matrix:\n",
        "  print(row)"
      ],
      "metadata": {
        "colab": {
          "base_uri": "https://localhost:8080/",
          "height": 0
        },
        "id": "qwZWZYZXq2f4",
        "outputId": "441a2a1c-9ff3-4194-821d-f7a434238123"
      },
      "execution_count": 16,
      "outputs": [
        {
          "output_type": "stream",
          "name": "stdout",
          "text": [
            "[1, 4]\n",
            "[2, 5]\n",
            "[3, 6]\n"
          ]
        }
      ]
    },
    {
      "cell_type": "markdown",
      "source": [
        "Program 40 program to sort words in alphabetic order"
      ],
      "metadata": {
        "id": "PCaykoheq-qe"
      }
    },
    {
      "cell_type": "code",
      "source": [
        "# Program to sort alphabetically the words form a string provided by th\n",
        "my_str = input(\"Enter a string: \")\n",
        "# breakdown the string into a list of words\n",
        "words = [word.capitalize() for word in my_str.split()]\n",
        "# sort the list\n",
        "words.sort()\n",
        "# display the sorted words\n",
        "print(\"The sorted words are:\")\n",
        "for word in words:\n",
        "  print(word)"
      ],
      "metadata": {
        "colab": {
          "base_uri": "https://localhost:8080/",
          "height": 0
        },
        "id": "RADuahA9rCHA",
        "outputId": "a45da4cc-fc6d-4dce-d01f-be5685f8fc19"
      },
      "execution_count": 17,
      "outputs": [
        {
          "output_type": "stream",
          "name": "stdout",
          "text": [
            "Enter a string: amit vthathrathrayan pavan sudarshan ekta pratheeksha chinmai\n",
            "The sorted words are:\n",
            "Amit\n",
            "Chinmai\n",
            "Ekta\n",
            "Pavan\n",
            "Pratheeksha\n",
            "Sudarshan\n",
            "Vthathrathrayan\n"
          ]
        }
      ]
    }
  ]
}
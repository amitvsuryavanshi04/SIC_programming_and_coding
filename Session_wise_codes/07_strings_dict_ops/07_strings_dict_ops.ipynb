{
  "nbformat": 4,
  "nbformat_minor": 0,
  "metadata": {
    "colab": {
      "provenance": []
    },
    "kernelspec": {
      "name": "python3",
      "display_name": "Python 3"
    },
    "language_info": {
      "name": "python"
    }
  },
  "cells": [
    {
      "cell_type": "markdown",
      "source": [
        "#7 Strings and dictionary operations.\n",
        "This notebook features Python programs (61 to 70) focused on string manipulation and dictionary operations. It's ideal for beginners to practice data handling, text processing, and core Python concepts.\n",
        "\n",
        "The notebook can be viewed here (https://github.com/amitvsuryavanshi04/SIC_programming_and_coding)"
      ],
      "metadata": {
        "id": "dKvgDmD_vlLn"
      }
    },
    {
      "cell_type": "markdown",
      "source": [
        "Program 61 spilt and join a string"
      ],
      "metadata": {
        "id": "aqlPVfw9vlHO"
      }
    },
    {
      "cell_type": "code",
      "execution_count": 1,
      "metadata": {
        "colab": {
          "base_uri": "https://localhost:8080/"
        },
        "id": "QkjRPq4rve-G",
        "outputId": "07a2fba4-ce39-4ffa-ec87-73b334b9db7c"
      },
      "outputs": [
        {
          "output_type": "stream",
          "name": "stdout",
          "text": [
            "Original String: Python program to split and join a string\n",
            "List of split Words: ['Python', 'program', 'to', 'split', 'and', 'join', 'a', 'string']\n",
            "Joined String: Python program to split and join a string\n"
          ]
        }
      ],
      "source": [
        "# Split a string into a list of words\n",
        "input_str = \"Python program to split and join a string\"\n",
        "word_list = input_str.split() # By default, split on whitespace\n",
        "# Join the list of words into a string\n",
        "separator = \" \" # specify the separator between words\n",
        "output_str = separator.join(word_list)\n",
        "# Print the results\n",
        "print(\"Original String:\", input_str)\n",
        "print(\"List of split Words:\", word_list)\n",
        "print(\"Joined String:\", output_str)"
      ]
    },
    {
      "cell_type": "markdown",
      "source": [
        "Program 62 to check if a given string is binary string or not\n",
        "binary string are those who have 0's and 1's in them"
      ],
      "metadata": {
        "id": "PvsPOqHXv0S2"
      }
    },
    {
      "cell_type": "code",
      "source": [
        "def is_binary_str(input_str):\n",
        "# Iterate through each character in the input string\n",
        "  for i in input_str:\n",
        "# Check if the i is not '0' or '1'\n",
        "    if i not in '01':\n",
        "      return False # If any character is not '0' or '1', it's no\n",
        "  return True # If all characters are '0' or '1', it's a binary stri\n",
        "# Input string to check\n",
        "input_str = \"1001110\"\n",
        "# Check if the input string is a binary string\n",
        "if is_binary_str(input_str):\n",
        "  print(f\"'{input_str}' is a binary string.\")\n",
        "else:\n",
        "  print(f\"'{input_str}' is not a binary string.\")"
      ],
      "metadata": {
        "colab": {
          "base_uri": "https://localhost:8080/"
        },
        "id": "Hiq3os0hv9vi",
        "outputId": "8365d451-73fd-4e71-cf40-b4c01a77588c"
      },
      "execution_count": 2,
      "outputs": [
        {
          "output_type": "stream",
          "name": "stdout",
          "text": [
            "'1001110' is a binary string.\n"
          ]
        }
      ]
    },
    {
      "cell_type": "markdown",
      "source": [
        "Program 63 code to find uncommon words from two strings."
      ],
      "metadata": {
        "id": "frBqOvcowFUD"
      }
    },
    {
      "cell_type": "code",
      "source": [
        "def uncommon_words(str1, str2):\n",
        "# Split the strings into words and convert them to sets\n",
        "  words1 = set(str1.split())\n",
        "  words2 = set(str2.split())\n",
        "# Find uncommon words by taking the set difference\n",
        "  uncommon_words_set = words1.symmetric_difference(words2)\n",
        "# Convert the set of uncommon words back to a list\n",
        "  uncommon_words_list = list(uncommon_words_set)\n",
        "  return uncommon_words_list\n",
        "# Input two strings\n",
        "string1 = \"This is the first string\"\n",
        "string2 = \"This is the second string\"\n",
        "# Find uncommon words between the two strings\n",
        "uncommon = uncommon_words(string1, string2)\n",
        "# Print the uncommon words\n",
        "print(\"Uncommon words:\", uncommon)"
      ],
      "metadata": {
        "colab": {
          "base_uri": "https://localhost:8080/"
        },
        "id": "k2sZJ8RAwKNR",
        "outputId": "bde65e49-4200-4e91-c829-074f90c7248c"
      },
      "execution_count": 3,
      "outputs": [
        {
          "output_type": "stream",
          "name": "stdout",
          "text": [
            "Uncommon words: ['second', 'first']\n"
          ]
        }
      ]
    },
    {
      "cell_type": "markdown",
      "source": [
        "Program 64 code to find all duplicate characters in string."
      ],
      "metadata": {
        "id": "f7GT5b_ewQvP"
      }
    },
    {
      "cell_type": "code",
      "source": [
        "def find_duplicates(input_str):\n",
        "# Create an empty dictionary to store character counts\n",
        "  char_count = {}\n",
        "# Initialize a list to store duplicate characters\n",
        "  duplicates = []\n",
        "# Iterate through each character in the input string\n",
        "  for i in input_str:\n",
        "# If the character is already in the dictionary, increment its\n",
        "    if i in char_count:\n",
        "      char_count[i] += 1\n",
        "    else:\n",
        "      char_count[i] = 1\n",
        "# Iterate through the dictionary and add characters with count > 1\n",
        "  for i, count in char_count.items():\n",
        "    if count > 1:\n",
        "      duplicates.append(i)\n",
        "  return duplicates\n",
        "# Input a string\n",
        "input_string = \"amit suryavanshi\"\n",
        "# Find duplicate characters in the string\n",
        "duplicate_chars = find_duplicates(input_string)\n",
        "# Print the list of duplicate characters\n",
        "print(\"Duplicate characters:\", duplicate_chars)"
      ],
      "metadata": {
        "colab": {
          "base_uri": "https://localhost:8080/"
        },
        "id": "qSf-KrTKwWjn",
        "outputId": "1e451415-7e4c-4fdb-a73f-8df6ff055322"
      },
      "execution_count": 4,
      "outputs": [
        {
          "output_type": "stream",
          "name": "stdout",
          "text": [
            "Duplicate characters: ['a', 'i', 's']\n"
          ]
        }
      ]
    },
    {
      "cell_type": "markdown",
      "source": [
        "Program 65 to check if string contains any special character"
      ],
      "metadata": {
        "id": "CdqYcJSVwjb4"
      }
    },
    {
      "cell_type": "code",
      "source": [
        "import re\n",
        "def check_special_char(in_str):\n",
        "# Define a regular expression pattern to match special characters\n",
        "  pattern = r'[!@#$%^&*()_+{}\\[\\]:;<>,.?~\\\\\\/\\'\"\\-=]'\n",
        "# Use re.search to find a match in the input string\n",
        "  if re.search(pattern, in_str):\n",
        "    return True\n",
        "  else:\n",
        "    return False\n",
        "# Input a string\n",
        "input_string = str(input(\"Enter a string: \"))\n",
        "# Check if the string contains any special characters\n",
        "contains_special = check_special_char(input_string)\n",
        "# Print the result\n",
        "if contains_special:\n",
        "  print(\"The string contains special characters.\")\n",
        "else:\n",
        "  print(\"The string does not contain special characters.\")"
      ],
      "metadata": {
        "colab": {
          "base_uri": "https://localhost:8080/"
        },
        "id": "fKpHmy4dwnyc",
        "outputId": "742f8375-868a-4277-d4cc-121ec8a61e5e"
      },
      "execution_count": 5,
      "outputs": [
        {
          "output_type": "stream",
          "name": "stdout",
          "text": [
            "Enter a string: a@#@$D#dfasfa@#!~\n",
            "The string contains special characters.\n"
          ]
        }
      ]
    },
    {
      "cell_type": "markdown",
      "source": [
        "Program 66 to extract unique dictionary values."
      ],
      "metadata": {
        "id": "OjTFG358w3q5"
      }
    },
    {
      "cell_type": "code",
      "source": [
        "# Sample dictionary\n",
        "my_dict = {\n",
        "  'a': 10,\n",
        "  'b': 20,\n",
        "  'c': 10,\n",
        "  'd': 30,\n",
        "  'e': 20\n",
        "}\n",
        "# Initialize an empty set to store unique values\n",
        "uni_val = set()\n",
        "# Iterate through the values of the dictionary\n",
        "for i in my_dict.values():\n",
        "# Add each value to the set\n",
        "  uni_val.add(i)\n",
        "# Convert the set of unique values back to a list (if needed)\n",
        "unique_values_list = list(uni_val)\n",
        "# Print the unique values\n",
        "print(\"Unique values in the dictionary:\", unique_values_list)"
      ],
      "metadata": {
        "colab": {
          "base_uri": "https://localhost:8080/"
        },
        "id": "LS0e3NHbxh86",
        "outputId": "f0fa76ee-67ef-431f-a76a-bd22f59a9cec"
      },
      "execution_count": 6,
      "outputs": [
        {
          "output_type": "stream",
          "name": "stdout",
          "text": [
            "Unique values in the dictionary: [10, 20, 30]\n"
          ]
        }
      ]
    },
    {
      "cell_type": "markdown",
      "source": [
        "Program 67 to find all the sum of all items in dictionary."
      ],
      "metadata": {
        "id": "xAHJ_UfAxso2"
      }
    },
    {
      "cell_type": "code",
      "source": [
        "# Sample dictionary\n",
        "my_dict = {\n",
        "'a': 10,\n",
        "'b': 20,\n",
        "'c': 30,\n",
        "'d': 40,\n",
        "'e': 50\n",
        "}\n",
        "# Initialize a variable to store the sum\n",
        "total_sum = 0\n",
        "# Iterate through the values of the dictionary and add them to the tota\n",
        "for i in my_dict.values():\n",
        "  total_sum += i\n",
        "# Print the sum of all items in the dictionary\n",
        "print(\"Sum of all items in the dictionary:\", total_sum)"
      ],
      "metadata": {
        "colab": {
          "base_uri": "https://localhost:8080/"
        },
        "id": "Xf9NZiyfxxhN",
        "outputId": "2ed0c7fa-5156-4833-d241-36a45b1ad1ef"
      },
      "execution_count": 7,
      "outputs": [
        {
          "output_type": "stream",
          "name": "stdout",
          "text": [
            "Sum of all items in the dictionary: 150\n"
          ]
        }
      ]
    },
    {
      "cell_type": "markdown",
      "source": [
        "Program 68 merging two dictionaries"
      ],
      "metadata": {
        "id": "Fs5dv9RCx3YT"
      }
    },
    {
      "cell_type": "code",
      "source": [
        "# 1. Using the update() method:\n",
        "dict1 = {'a': 1, 'b': 2}\n",
        "dict2 = {'c': 3, 'd': 4}\n",
        "dict1.update(dict2)\n",
        "# The merged dictionary is now in dict1\n",
        "print(\"Merged Dictionary (using update()):\", dict1)"
      ],
      "metadata": {
        "colab": {
          "base_uri": "https://localhost:8080/"
        },
        "id": "QIrrYFfMx6m3",
        "outputId": "d974edb9-eb79-4111-d3f1-f4870d290915"
      },
      "execution_count": 8,
      "outputs": [
        {
          "output_type": "stream",
          "name": "stdout",
          "text": [
            "Merged Dictionary (using update()): {'a': 1, 'b': 2, 'c': 3, 'd': 4}\n"
          ]
        }
      ]
    },
    {
      "cell_type": "code",
      "source": [
        "# 2. Using dictionary unpacking\n",
        "dict1 = {'a': 1, 'b': 2}\n",
        "dict2 = {'c': 3, 'd': 4}\n",
        "# Merge dict2 into dict1 using dictionary unpacking\n",
        "merged_dict = {**dict1, **dict2}\n",
        "# The merged dictionary is now in merged_dict\n",
        "print(\"Merged Dictionary (using dictionary unpacking):\", merged_dict)"
      ],
      "metadata": {
        "colab": {
          "base_uri": "https://localhost:8080/"
        },
        "id": "XUYKvIG0x-zQ",
        "outputId": "89d0856a-978a-444d-8ea5-fe2ca8e8f016"
      },
      "execution_count": 9,
      "outputs": [
        {
          "output_type": "stream",
          "name": "stdout",
          "text": [
            "Merged Dictionary (using dictionary unpacking): {'a': 1, 'b': 2, 'c': 3, 'd': 4}\n"
          ]
        }
      ]
    },
    {
      "cell_type": "markdown",
      "source": [
        "Program 69 code to convert ky-values list to flat dictionary."
      ],
      "metadata": {
        "id": "Ed982bTEx9cF"
      }
    },
    {
      "cell_type": "code",
      "source": [
        "key_values_list = [('a', 1), ('b', 2), ('c', 3), ('d', 4)]\n",
        "# Initialize an empty dictionary\n",
        "flat_dict = {}\n",
        "# Iterate through the list and add key-value pairs to the dictionary\n",
        "for key, value in key_values_list:\n",
        "  flat_dict[key] = value\n",
        "# Print the resulting flat dictionary\n",
        "print(\"Flat Dictionary:\", flat_dict)"
      ],
      "metadata": {
        "colab": {
          "base_uri": "https://localhost:8080/"
        },
        "id": "fVwI1mriyHAx",
        "outputId": "f0470520-b9fe-4a00-fc94-98c6b0f6cc14"
      },
      "execution_count": 10,
      "outputs": [
        {
          "output_type": "stream",
          "name": "stdout",
          "text": [
            "Flat Dictionary: {'a': 1, 'b': 2, 'c': 3, 'd': 4}\n"
          ]
        }
      ]
    },
    {
      "cell_type": "markdown",
      "source": [
        "Program 70 insertion at the beginning in ordered Dictionary"
      ],
      "metadata": {
        "id": "l4ZYMfV6yKF3"
      }
    },
    {
      "cell_type": "code",
      "source": [
        "from collections import OrderedDict\n",
        "# Create an OrderedDict\n",
        "ordered_dict = OrderedDict([('b', 2), ('c', 3), ('d', 4)])\n",
        "# Item to insert at the beginning\n",
        "new_item = ('a', 1)\n",
        "# Create a new OrderedDict with the new item as the first element\n",
        "new_ordered_dict = OrderedDict([new_item])\n",
        "# Merge the new OrderedDict with the original OrderedDict\n",
        "new_ordered_dict.update(ordered_dict)\n",
        "# Print the updated OrderedDict\n",
        "print(\"Updated OrderedDict:\", new_ordered_dict)"
      ],
      "metadata": {
        "colab": {
          "base_uri": "https://localhost:8080/"
        },
        "id": "aaSgKpGFySJv",
        "outputId": "91441978-1883-4460-cfb4-acd857adc2b2"
      },
      "execution_count": 11,
      "outputs": [
        {
          "output_type": "stream",
          "name": "stdout",
          "text": [
            "Updated OrderedDict: OrderedDict([('a', 1), ('b', 2), ('c', 3), ('d', 4)])\n"
          ]
        }
      ]
    }
  ]
}
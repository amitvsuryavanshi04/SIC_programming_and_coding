{
  "nbformat": 4,
  "nbformat_minor": 0,
  "metadata": {
    "colab": {
      "provenance": []
    },
    "kernelspec": {
      "name": "python3",
      "display_name": "Python 3"
    },
    "language_info": {
      "name": "python"
    }
  },
  "cells": [
    {
      "cell_type": "markdown",
      "source": [
        "This notebook contains a collection of beginner-friendly Python programs (Program 91–100), useful for logic building and interview preparation.\n",
        "\n",
        "this notebook can be accessed via (https://github.com/amitvsuryavanshi04/SIC_programming_and_coding)"
      ],
      "metadata": {
        "id": "XOzKKHqOX0xp"
      }
    },
    {
      "cell_type": "markdown",
      "source": [
        "Program 91  Write a function that stutters a word as if someone is struggling to read it. The first\n",
        "two letters are repeated twice with an ellipsis ... and space after each, and then the\n",
        "word is pronounced with a question mark ?."
      ],
      "metadata": {
        "id": "ryLTPf4HX0SQ"
      }
    },
    {
      "cell_type": "code",
      "source": [
        "def stutter(word):\n",
        "  if len(word) < 2:\n",
        "    return \"Word must be at least two characters long.\"\n",
        "  stuttered_word = f\"{word[:2]}... {word[:2]}... {word}?\"\n",
        "  return stuttered_word\n",
        "# Test cases\n",
        "print(stutter(\"incredible\"))\n",
        "print(stutter(\"enthusiastic\"))\n",
        "print(stutter(\"outstanding\"))"
      ],
      "metadata": {
        "colab": {
          "base_uri": "https://localhost:8080/"
        },
        "id": "NR0mqAbQXyc8",
        "outputId": "a9702a42-1698-4a41-eefc-f8dc7e51d3ea"
      },
      "execution_count": 1,
      "outputs": [
        {
          "output_type": "stream",
          "name": "stdout",
          "text": [
            "in... in... incredible?\n",
            "en... en... enthusiastic?\n",
            "ou... ou... outstanding?\n"
          ]
        }
      ]
    },
    {
      "cell_type": "markdown",
      "source": [
        "Program 92 Create a function that takes an angle in radians and returns the corresponding angle\n",
        "in degrees rounded to one decimal place."
      ],
      "metadata": {
        "id": "nqP04PtkX0ih"
      }
    },
    {
      "cell_type": "code",
      "execution_count": 3,
      "metadata": {
        "colab": {
          "base_uri": "https://localhost:8080/"
        },
        "id": "08z_aPzdXw88",
        "outputId": "bf90ea12-a7de-42bb-f989-2579c005b857"
      },
      "outputs": [
        {
          "output_type": "stream",
          "name": "stdout",
          "text": [
            "57.3\n",
            "5729.6\n",
            "15126.1\n"
          ]
        }
      ],
      "source": [
        "import math\n",
        "\n",
        "def radians_to_degrees(radians):\n",
        "  degrees = radians * (180 / math.pi)\n",
        "  return round(degrees, 1)\n",
        "#test cases\n",
        "print(radians_to_degrees(1))\n",
        "print(radians_to_degrees(100))\n",
        "print(radians_to_degrees(264))"
      ]
    },
    {
      "cell_type": "markdown",
      "source": [
        "Program 93 In this challenge, establish if a given integer num is a Curzon number. If 1 plus 2\n",
        "elevated to num is exactly divisible by 1 plus 2 multiplied by num, then num is a\n",
        "Curzon number.\n",
        "Given a non-negative integer num, implement a function that returns True if num is a\n",
        "Curzon number, or False otherwise."
      ],
      "metadata": {
        "id": "4tfqGblaX-f-"
      }
    },
    {
      "cell_type": "code",
      "source": [
        "def is_curzon(num):\n",
        "  numerator = 2 ** num + 1\n",
        "  denominator = 2 * num + 1\n",
        "  return numerator % denominator == 0\n",
        "# Test cases\n",
        "print(is_curzon(5))\n",
        "print(is_curzon(10))\n",
        "print(is_curzon(14))"
      ],
      "metadata": {
        "colab": {
          "base_uri": "https://localhost:8080/"
        },
        "id": "fIW4pA2FYBge",
        "outputId": "23efd0f4-5654-4311-f187-0e177efb14f2"
      },
      "execution_count": 4,
      "outputs": [
        {
          "output_type": "stream",
          "name": "stdout",
          "text": [
            "True\n",
            "False\n",
            "True\n"
          ]
        }
      ]
    },
    {
      "cell_type": "markdown",
      "source": [
        "Program 94 Given the side length x find the area of a hexagon."
      ],
      "metadata": {
        "id": "XHtsiNkwYEyD"
      }
    },
    {
      "cell_type": "code",
      "source": [
        "import math\n",
        "def area_of_hexagon(x):\n",
        "  area = (3 * math.sqrt(3) * x ** 2) / 2\n",
        "  return round(area, 1)\n",
        "# Test cases\n",
        "print(area_of_hexagon(1))\n",
        "print(area_of_hexagon(2))\n",
        "print(area_of_hexagon(4))"
      ],
      "metadata": {
        "colab": {
          "base_uri": "https://localhost:8080/"
        },
        "id": "LQWkNyCGYGmY",
        "outputId": "a166c8dd-6538-46da-bf26-3536e9e91eb4"
      },
      "execution_count": 5,
      "outputs": [
        {
          "output_type": "stream",
          "name": "stdout",
          "text": [
            "2.6\n",
            "10.4\n",
            "41.6\n"
          ]
        }
      ]
    },
    {
      "cell_type": "markdown",
      "source": [
        "Program 95 create a function that returns a base-2 (binary) representation a base-10 (decimal) string number. To convert is simple((2) means base-2 and (10) means base-10)"
      ],
      "metadata": {
        "id": "f0lJaXc1YHj0"
      }
    },
    {
      "cell_type": "code",
      "source": [
        "def binary(decimal):\n",
        "  binary_str = \"\"\n",
        "  while decimal > 0:\n",
        "    remainder = decimal % 2\n",
        "    binary_str = str(remainder) + binary_str\n",
        "    decimal = decimal // 2\n",
        "  return binary_str if binary_str else \"0\"\n",
        "print(binary(1))\n",
        "print(binary(45))\n",
        "print(binary(264))"
      ],
      "metadata": {
        "colab": {
          "base_uri": "https://localhost:8080/"
        },
        "id": "FeHxndq6YJlG",
        "outputId": "83af1e44-2902-4247-9774-699f10c81333"
      },
      "execution_count": 7,
      "outputs": [
        {
          "output_type": "stream",
          "name": "stdout",
          "text": [
            "1\n",
            "101101\n",
            "100001000\n"
          ]
        }
      ]
    },
    {
      "cell_type": "markdown",
      "source": [
        "Program 96 Create a function that takes three arguments a,b,c and returns the sum of the numbers that are evenly divided by c from the range a,b inclusive."
      ],
      "metadata": {
        "id": "_AU7iFbTYKBc"
      }
    },
    {
      "cell_type": "code",
      "source": [
        "def evenly_divisible(a, b, c):\n",
        "  total = 0\n",
        "  for num in range(a, b + 1):\n",
        "    if num % c == 0:\n",
        "      total += num\n",
        "  return total\n",
        "print(evenly_divisible(1, 10, 20))\n",
        "print(evenly_divisible(1, 10, 2))\n",
        "print(evenly_divisible(1, 10, 3))"
      ],
      "metadata": {
        "colab": {
          "base_uri": "https://localhost:8080/"
        },
        "id": "FvSatD-sYLv-",
        "outputId": "714147a1-1a4f-45f3-f88e-1b4dbd673bf7"
      },
      "execution_count": 8,
      "outputs": [
        {
          "output_type": "stream",
          "name": "stdout",
          "text": [
            "0\n",
            "30\n",
            "18\n"
          ]
        }
      ]
    },
    {
      "cell_type": "markdown",
      "source": [
        "Program 97 Create a function that returns true if a given inequality expression is correct and false otherwise."
      ],
      "metadata": {
        "id": "eO5M6lrzYMEA"
      }
    },
    {
      "cell_type": "code",
      "source": [
        "def correct_signs(expression):\n",
        "  try:\n",
        "    return eval(expression)\n",
        "  except:\n",
        "    return False\n",
        "print(correct_signs(\"3 < 7 < 11\"))\n",
        "print(correct_signs(\"13 > 44 > 33 > 1\"))\n",
        "print(correct_signs(\"1 < 2 < 6 < 9 > 3\"))"
      ],
      "metadata": {
        "colab": {
          "base_uri": "https://localhost:8080/"
        },
        "id": "x4j-MckaYNmb",
        "outputId": "f2fd71d4-c492-44b5-a44d-75f4c9d0b1f4"
      },
      "execution_count": 9,
      "outputs": [
        {
          "output_type": "stream",
          "name": "stdout",
          "text": [
            "True\n",
            "False\n",
            "True\n"
          ]
        }
      ]
    },
    {
      "cell_type": "markdown",
      "source": [
        "Program 98 Create a function that replaces all the vowels in a string with a specified character."
      ],
      "metadata": {
        "id": "sLgZQoeFYSnM"
      }
    },
    {
      "cell_type": "code",
      "source": [
        "def replace_vowels(string, char):\n",
        "  vowels = \"AEIOUaeiou\" # List of vowels to be replaced\n",
        "  for vowel in vowels:\n",
        "    string = string.replace(vowel, char) # Replace each vowel with\n",
        "  return string\n",
        "print(replace_vowels(\"the aardvark\", \"#\"))\n",
        "print(replace_vowels(\"minnie mouse\", \"?\"))\n",
        "print(replace_vowels(\"shakespeare\", \"*\"))"
      ],
      "metadata": {
        "colab": {
          "base_uri": "https://localhost:8080/"
        },
        "id": "tE2_CFMcYPVk",
        "outputId": "871d1560-ea60-4421-eb86-cbc101e3c090"
      },
      "execution_count": 10,
      "outputs": [
        {
          "output_type": "stream",
          "name": "stdout",
          "text": [
            "th# ##rdv#rk\n",
            "m?nn?? m??s?\n",
            "sh*k*sp**r*\n"
          ]
        }
      ]
    },
    {
      "cell_type": "markdown",
      "source": [
        "Program 99 write a function that calculates the factorial of a number recursively."
      ],
      "metadata": {
        "id": "Ucyc2McOYOtF"
      }
    },
    {
      "cell_type": "code",
      "source": [
        "#code\n",
        "def factorial(n):\n",
        "  if n == 0:\n",
        "    return 1 # Base case: factorial of 0 is 1\n",
        "  else:\n",
        "    return n * factorial(n - 1) # Recursive case: n! = n * (n-1)!\n",
        "print(factorial(5))\n",
        "print(factorial(45))\n",
        "print(factorial(1))\n",
        "print(factorial(0))"
      ],
      "metadata": {
        "colab": {
          "base_uri": "https://localhost:8080/"
        },
        "id": "kqpFsCwaYTqq",
        "outputId": "ea818bef-d496-479f-bb08-baef493bb40b"
      },
      "execution_count": 11,
      "outputs": [
        {
          "output_type": "stream",
          "name": "stdout",
          "text": [
            "120\n",
            "119622220865480194561963161495657715064383733760000000000\n",
            "1\n",
            "1\n"
          ]
        }
      ]
    },
    {
      "cell_type": "markdown",
      "source": [
        "Program 100 Hamming Distance is the number of characters that differ between two strings."
      ],
      "metadata": {
        "id": "yTHqQOvHYUXp"
      }
    },
    {
      "cell_type": "code",
      "source": [
        "def hamming_distance(str1, str2):\n",
        "# Check if the strings have the same length\n",
        "  if len(str1) != len(str2):\n",
        "    raise ValueError(\"Input strings must have the same length\")\n",
        "# Initialize a counter to keep track of differences\n",
        "  distance = 0\n",
        "# Iterate through the characters of both strings\n",
        "  for i in range(len(str1)):\n",
        "    if str1[i] != str2[i]:\n",
        "      distance += 1 # Increment the counter for differences\n",
        "  return distance\n",
        "print(hamming_distance(\"abcde\", \"bcdef\"))\n",
        "print(hamming_distance(\"abcde\", \"abcde\"))\n",
        "print(hamming_distance(\"strong\", \"strung\"))"
      ],
      "metadata": {
        "colab": {
          "base_uri": "https://localhost:8080/"
        },
        "id": "T9m3VpboYVr6",
        "outputId": "215788c8-da7e-446a-ea6a-9015c3562966"
      },
      "execution_count": 12,
      "outputs": [
        {
          "output_type": "stream",
          "name": "stdout",
          "text": [
            "5\n",
            "0\n",
            "1\n"
          ]
        }
      ]
    }
  ]
}
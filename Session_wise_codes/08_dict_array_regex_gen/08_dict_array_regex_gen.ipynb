{
  "nbformat": 4,
  "nbformat_minor": 0,
  "metadata": {
    "colab": {
      "provenance": []
    },
    "kernelspec": {
      "name": "python3",
      "display_name": "Python 3"
    },
    "language_info": {
      "name": "python"
    }
  },
  "cells": [
    {
      "cell_type": "markdown",
      "source": [
        "This notebook contains a collection of Python programs (Program 71 to Program 80) covering **dictionary sorting**, **list/array generation**, **regex validation**, and **generator functions**. These exercises are great for learning intermediate Python logic and flow control.\n",
        "######The noteboook can be accessed in the (https://amitvsuryavanshi04/SIC_programming_and_coding)"
      ],
      "metadata": {
        "id": "mvI_z3-GU3Df"
      }
    },
    {
      "cell_type": "markdown",
      "source": [
        "Program 71 to check order of character in string using OrderedDict()"
      ],
      "metadata": {
        "id": "9CPbqEjOU0iu"
      }
    },
    {
      "cell_type": "code",
      "execution_count": 1,
      "metadata": {
        "colab": {
          "base_uri": "https://localhost:8080/"
        },
        "id": "0ylKPDlxUidm",
        "outputId": "df5b9fb6-b66b-40b8-d0e0-3168b0870b9f"
      },
      "outputs": [
        {
          "output_type": "stream",
          "name": "stdout",
          "text": [
            "The order of characters in the input string matches the reference_st\n"
          ]
        }
      ],
      "source": [
        "from collections import OrderedDict\n",
        "def check_order(string, reference):\n",
        "  # Create OrderedDicts for both strings\n",
        "  string_dict = OrderedDict.fromkeys(string)\n",
        "  reference_dict = OrderedDict.fromkeys(reference)\n",
        "  # Check if the OrderedDict for the string matches the OrderedDict f\n",
        "  return string_dict == reference_dict\n",
        "# Input strings\n",
        "input_string = \"hello world\"\n",
        "reference_string = \"helo wrd\"\n",
        "# Check if the order of characters in input_string matches reference_st\n",
        "if check_order(input_string, reference_string):\n",
        "  print(\"The order of characters in the input string matches the reference_st\")\n",
        "else:\n",
        "  print(\"The order of characters in the input string does not match the reference_st\")"
      ]
    },
    {
      "cell_type": "markdown",
      "source": [
        "Program 72 python dictonaries by key or value"
      ],
      "metadata": {
        "id": "3Sq_SqPoVNOq"
      }
    },
    {
      "cell_type": "code",
      "source": [
        "# Sort by Keys:\n",
        "sample_dict = {'apple': 3, 'banana': 1, 'cherry': 2, 'date': 4}\n",
        "sorted_dict_by_keys = dict(sorted(sample_dict.items()))\n",
        "print(\"Sorted by keys:\")\n",
        "for key, value in sorted_dict_by_keys.items():\n",
        "  print(f\"{key}: {value}\")"
      ],
      "metadata": {
        "colab": {
          "base_uri": "https://localhost:8080/"
        },
        "id": "Zbcu9Y-wVTXr",
        "outputId": "f7f43fed-7843-43bc-908a-2c86dab25d26"
      },
      "execution_count": 2,
      "outputs": [
        {
          "output_type": "stream",
          "name": "stdout",
          "text": [
            "Sorted by keys:\n",
            "apple: 3\n",
            "banana: 1\n",
            "cherry: 2\n",
            "date: 4\n"
          ]
        }
      ]
    },
    {
      "cell_type": "code",
      "source": [
        "# Sort by values\n",
        "sample_dict = {'apple': 3, 'banana': 1, 'cherry': 2, 'date': 4}\n",
        "sorted_dict_by_values = dict(sorted(sample_dict.items(), key=lambda item: item[1]))\n",
        "\n",
        "print(\"Sorted by values:\")\n",
        "for key, value in sorted_dict_by_values.items():\n",
        "    print(f\"{key}: {value}\")\n"
      ],
      "metadata": {
        "colab": {
          "base_uri": "https://localhost:8080/"
        },
        "id": "sLQSH3MPVgIh",
        "outputId": "350a52d7-5ebf-4f72-92e4-e4220aeb4ed8"
      },
      "execution_count": 3,
      "outputs": [
        {
          "output_type": "stream",
          "name": "stdout",
          "text": [
            "Sorted by values:\n",
            "banana: 1\n",
            "cherry: 2\n",
            "apple: 3\n",
            "date: 4\n"
          ]
        }
      ]
    },
    {
      "cell_type": "markdown",
      "source": [
        "Program 73 Write a program that calculates and prints the value according to the given formula:\n",
        "Following are the fixed values of C and H:\n",
        "C is 50. H is 30.\n",
        "D is the variable whose values should be input to your program in a commaseparated sequence"
      ],
      "metadata": {
        "id": "NfaAuQ0bVWyz"
      }
    },
    {
      "cell_type": "code",
      "source": [
        "import math\n",
        "# Fixed values\n",
        "C = 50\n",
        "H = 30\n",
        "# Function to calculate Q\n",
        "def calculate_Q(D):\n",
        "  return int(math.sqrt((2 * C * D) / H))\n",
        "# Input comma-separated sequence of D values\n",
        "input_sequence = input(\"Enter comma-separated values of D: \")\n",
        "D_values = input_sequence.split(',')\n",
        "# Calculate and print Q for each D value\n",
        "result = [calculate_Q(int(D)) for D in D_values]\n",
        "print(','.join(map(str, result)))"
      ],
      "metadata": {
        "colab": {
          "base_uri": "https://localhost:8080/"
        },
        "id": "sjGqN_ziVw2_",
        "outputId": "f6f1c4a5-433a-4885-d596-d7b81b9dc847"
      },
      "execution_count": 5,
      "outputs": [
        {
          "output_type": "stream",
          "name": "stdout",
          "text": [
            "Enter comma-separated values of D: 100,150,1809\n",
            "18,22,77\n"
          ]
        }
      ]
    },
    {
      "cell_type": "markdown",
      "source": [
        "Program 74 Write a program which takes 2 digits, X,Y as input and generates a 2-dimensional\n",
        "array. The element value in the i-th row and j-th column of the array should be i*j.\n",
        "Note: i=0,1.., X-1; j=0,1,¡Y-1.\n",
        "Example\n",
        "Suppose the following inputs are given to the program:\n",
        "3,5\n",
        "Then, the output of the program should be:\n",
        "[[0, 0, 0, 0, 0], [0, 1, 2, 3, 4], [0, 2, 4, 6, 8]]"
      ],
      "metadata": {
        "id": "0GX2uVJzV9Za"
      }
    },
    {
      "cell_type": "code",
      "source": [
        "# Input two digits, X and Y\n",
        "X, Y = map(int, input(\"Enter two digits (X, Y): \").split(','))\n",
        "# Initialize a 2D array filled with zeros\n",
        "array = [[0 for j in range(Y)] for i in range(X)]\n",
        "# Fill the array with values i * j\n",
        "for i in range(X):\n",
        "  for j in range(Y):\n",
        "    array[i][j] = i * j\n",
        "# Print the 2D array\n",
        "for row in array:\n",
        "  print(row)"
      ],
      "metadata": {
        "colab": {
          "base_uri": "https://localhost:8080/"
        },
        "id": "O1U6Q8urWDhw",
        "outputId": "5a8e3da2-bda9-467e-9056-f2f1810ebb3e"
      },
      "execution_count": 6,
      "outputs": [
        {
          "output_type": "stream",
          "name": "stdout",
          "text": [
            "Enter two digits (X, Y): 3,5\n",
            "[0, 0, 0, 0, 0]\n",
            "[0, 1, 2, 3, 4]\n",
            "[0, 2, 4, 6, 8]\n"
          ]
        }
      ]
    },
    {
      "cell_type": "markdown",
      "source": [
        "Program 75 Write a program that accepts a comma separated sequence of words as input and prints the words in a comma-separated sequence after sorting them alphabetically.\n",
        "####Suppose the following input is supplied to the program: without,hello,bag,world\n",
        "#####Then, the output should be:\n",
        "######bag,hello,without,world"
      ],
      "metadata": {
        "id": "Edr155DgWLA4"
      }
    },
    {
      "cell_type": "code",
      "source": [
        "# Accept input from the user\n",
        "input_sequence = input(\"Enter a comma-separated sequence of words: \")\n",
        "# Split the input into a list of words\n",
        "words = input_sequence.split(',')\n",
        "# Sort the words alphabetically\n",
        "sorted_words = sorted(words)\n",
        "# Join the sorted words into a comma-separated sequence\n",
        "sorted_sequence = ','.join(sorted_words)\n",
        "# Print the sorted sequence\n",
        "print(\"Sorted words:\", sorted_sequence)"
      ],
      "metadata": {
        "colab": {
          "base_uri": "https://localhost:8080/"
        },
        "id": "gGp8xQO_WZMP",
        "outputId": "a05f8377-3184-450c-e587-2d530364ab70"
      },
      "execution_count": 7,
      "outputs": [
        {
          "output_type": "stream",
          "name": "stdout",
          "text": [
            "Enter a comma-separated sequence of words: amit,zeb,vittal,yashoda\n",
            "Sorted words: amit,vittal,yashoda,zeb\n"
          ]
        }
      ]
    },
    {
      "cell_type": "markdown",
      "source": [
        "Program 76 Write a program that accepts a sequence of whitespace separated words as input\n",
        "and prints the words after removing all duplicate words and sorting them\n",
        "alphanumerically.\n",
        "#####Suppose the following input is supplied to the program:\n",
        "#####hello world and practice makes perfect and hello world again\n",
        "######Then, the output should be: again and hello makes perfect practice world"
      ],
      "metadata": {
        "id": "AmunUB-pWjkU"
      }
    },
    {
      "cell_type": "code",
      "source": [
        "# Accept input from the user\n",
        "input_sequence = input(\"Enter a sequence of whitespace-separated words:\")\n",
        "# Split the input into words and convert it into a set to remove duplic\n",
        "words = set(input_sequence.split())\n",
        "# Sort the unique words alphanumerically\n",
        "sorted_words = sorted(words)\n",
        "# Join the sorted words into a string with whitespace separation\n",
        "result = ' '.join(sorted_words)\n",
        "# Print the result\n",
        "print(\"Result:\", result)"
      ],
      "metadata": {
        "colab": {
          "base_uri": "https://localhost:8080/"
        },
        "id": "I73GyBCSWsUY",
        "outputId": "6a6676c9-1942-485d-bd5f-3e18ce9e41c0"
      },
      "execution_count": 8,
      "outputs": [
        {
          "output_type": "stream",
          "name": "stdout",
          "text": [
            "Enter a sequence of whitespace-separated words:hello world this is amit suryavanshi\n",
            "Result: amit hello is suryavanshi this world\n"
          ]
        }
      ]
    },
    {
      "cell_type": "markdown",
      "source": [
        "Program 78 Write a program that accepts a sentence and calculate the number of letters and\n",
        "digits. Suppose the following input is supplied to the program:\n",
        "hello world! 123\n",
        "######Then, the output should be:\n",
        "######LETTERS 10\n",
        "######DIGITS 3"
      ],
      "metadata": {
        "id": "ldp_9kscWrKR"
      }
    },
    {
      "cell_type": "code",
      "source": [
        "# Accept input from the user\n",
        "sentence = input(\"Enter a sentence: \")\n",
        "# Initialize counters for letters and digits\n",
        "letter_count = 0\n",
        "digit_count = 0\n",
        "# Iterate through each character in the sentence\n",
        "for char in sentence:\n",
        "  if char.isalpha():\n",
        "    letter_count += 1\n",
        "  elif char.isdigit():\n",
        "    digit_count += 1\n",
        "# Print the results\n",
        "print(\"LETTERS\", letter_count)\n",
        "print(\"DIGITS\", digit_count)"
      ],
      "metadata": {
        "colab": {
          "base_uri": "https://localhost:8080/"
        },
        "id": "-7Y9d2T3W6df",
        "outputId": "d003cc90-a023-46e4-ffb7-3a11f5625169"
      },
      "execution_count": 9,
      "outputs": [
        {
          "output_type": "stream",
          "name": "stdout",
          "text": [
            "Enter a sentence: AMIT SURYAVANSHI 10072002\n",
            "LETTERS 15\n",
            "DIGITS 8\n"
          ]
        }
      ]
    },
    {
      "cell_type": "markdown",
      "source": [
        "Program 79\n",
        "## 🔐 Password Validation Program\n",
        "\n",
        "This program checks the validity of transaction passwords entered by users based on the following criteria:\n",
        "\n",
        "### ✅ Password Criteria:\n",
        "1. Must contain **at least one lowercase letter** (`a-z`)\n",
        "2. Must contain **at least one uppercase letter** (`A-Z`)\n",
        "3. Must contain **at least one digit** (`0-9`)\n",
        "4. Must contain **at least one special character** from the set: `$`, `#`, `@`\n",
        "5. Must be **6 to 12 characters** in length (inclusive)\n",
        "\n",
        "### 🧾 Input Format:\n",
        "- A sequence of **comma-separated passwords** entered by the user.\n",
        "\n",
        "### 💡 Example:\n",
        "#### Input:\n"
      ],
      "metadata": {
        "id": "ERjAgvblXK3O"
      }
    },
    {
      "cell_type": "code",
      "source": [
        "import re\n",
        "\n",
        "# Function to check if a password is valid\n",
        "def is_valid_password(password):\n",
        "    # Check the length of the password\n",
        "    if 6 <= len(password) <= 12:\n",
        "        # Check if the password matches all the criteria using regex\n",
        "        if re.search(r\"[a-z]\", password) and \\\n",
        "           re.search(r\"[A-Z]\", password) and \\\n",
        "           re.search(r\"[0-9]\", password) and \\\n",
        "           re.search(r\"[$#@]\", password):\n",
        "            return True\n",
        "    return False\n",
        "\n",
        "# Accept input from the user as comma-separated passwords\n",
        "passwords = input(\"Enter passwords separated by commas: \").split(',')\n",
        "\n",
        "# Initialize a list to store valid passwords\n",
        "valid_passwords = []\n",
        "\n",
        "# Iterate through the passwords and check their validity\n",
        "for psw in passwords:\n",
        "    psw = psw.strip()  # Remove extra whitespace\n",
        "    if is_valid_password(psw):\n",
        "        valid_passwords.append(psw)\n",
        "\n",
        "# Print the valid passwords separated by commas\n",
        "print(','.join(valid_passwords))\n"
      ],
      "metadata": {
        "colab": {
          "base_uri": "https://localhost:8080/"
        },
        "id": "UgyhzhM1Xc56",
        "outputId": "f4184ca3-1c56-420d-baa9-b92c9993c461"
      },
      "execution_count": 13,
      "outputs": [
        {
          "output_type": "stream",
          "name": "stdout",
          "text": [
            "Enter passwords separated by commas: abc123,@V$rt\n",
            "\n"
          ]
        }
      ]
    },
    {
      "cell_type": "markdown",
      "source": [
        "Program 80 Define a class with a generator which can iterate the numbers, which are divisible by\n",
        "7, between a given range 0 and n"
      ],
      "metadata": {
        "id": "4T_6RteWXn8p"
      }
    },
    {
      "cell_type": "code",
      "source": [
        "class DivisibleBySeven:\n",
        "    def __init__(self, n):\n",
        "        self.n = n\n",
        "\n",
        "    def generate_divisible_by_seven(self):\n",
        "        for num in range(self.n + 1):\n",
        "            if num % 7 == 0:\n",
        "                yield num\n",
        "\n",
        "# Take input from the user\n",
        "n = int(input(\"Enter your desired range: \"))\n",
        "\n",
        "# Create an instance and call the generator method\n",
        "divisible_by_seven_generator = DivisibleBySeven(n).generate_divisible_by_seven()\n",
        "\n",
        "# Print all numbers divisible by 7 in the range\n",
        "print(\"Numbers divisible by 7 from 0 to\", n, \":\")\n",
        "for num in divisible_by_seven_generator:\n",
        "    print(num)\n"
      ],
      "metadata": {
        "colab": {
          "base_uri": "https://localhost:8080/"
        },
        "id": "YDuZAsF_XsP-",
        "outputId": "d44bc692-2abb-415d-fac4-901dada7a776"
      },
      "execution_count": 14,
      "outputs": [
        {
          "output_type": "stream",
          "name": "stdout",
          "text": [
            "Enter your desired range: 100\n",
            "Numbers divisible by 7 from 0 to 100 :\n",
            "0\n",
            "7\n",
            "14\n",
            "21\n",
            "28\n",
            "35\n",
            "42\n",
            "49\n",
            "56\n",
            "63\n",
            "70\n",
            "77\n",
            "84\n",
            "91\n",
            "98\n"
          ]
        }
      ]
    }
  ]
}
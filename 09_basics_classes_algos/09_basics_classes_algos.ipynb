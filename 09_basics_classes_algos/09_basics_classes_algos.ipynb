{
  "nbformat": 4,
  "nbformat_minor": 0,
  "metadata": {
    "colab": {
      "provenance": []
    },
    "kernelspec": {
      "name": "python3",
      "display_name": "Python 3"
    },
    "language_info": {
      "name": "python"
    }
  },
  "cells": [
    {
      "cell_type": "markdown",
      "source": [],
      "metadata": {
        "id": "99hs8O569RdL"
      }
    },
    {
      "cell_type": "markdown",
      "source": [
        "Program 81 Write a program to compute the frequency of the words from the input. The output\n",
        "should output after sorting the key alphanumerically. Suppose the following input is\n",
        "supplied to the program"
      ],
      "metadata": {
        "id": "XxHZ5rE59RQ6"
      }
    },
    {
      "cell_type": "code",
      "execution_count": 2,
      "metadata": {
        "id": "1idBxOb49Pqc",
        "colab": {
          "base_uri": "https://localhost:8080/"
        },
        "outputId": "22c07329-a9b3-4708-dcda-24904393b3f3"
      },
      "outputs": [
        {
          "output_type": "stream",
          "name": "stdout",
          "text": [
            "Enter a sentence: New to python or choosing between python 2 and python 3 ? Read python 2 or python 3\n",
            ":1\n",
            "2:2\n",
            "3:2\n",
            "and:1\n",
            "between:1\n",
            "choosing:1\n",
            "new:1\n",
            "or:2\n",
            "python:5\n",
            "read:1\n",
            "to:1\n"
          ]
        }
      ],
      "source": [
        "input_sentence = input(\"Enter a sentence: \")\n",
        "# Split the sentence into words\n",
        "words = input_sentence.split()\n",
        "# Create a dictionary to store word frequencies\n",
        "word_freq = {}\n",
        "# Count word frequencies\n",
        "for word in words:\n",
        "# Remove punctuation (., ?) from the word\n",
        "  word = word.strip('.,?')\n",
        "  # Convert the word to lowercase to ensure case-insensitive counting\n",
        "  word = word.lower()\n",
        "  # Update the word frequency in the dictionary\n",
        "  if word in word_freq:\n",
        "    word_freq[word] += 1\n",
        "  else:\n",
        "    word_freq[word] = 1\n",
        "# Sort the words alphanumerically\n",
        "sorted_words = sorted(word_freq.items())\n",
        "# Print the word frequencies\n",
        "for word, frequency in sorted_words:\n",
        "  print(f\"{word}:{frequency}\")"
      ]
    },
    {
      "cell_type": "markdown",
      "source": [
        "Program 82 Define a class Person and its two child classes: Male and Female. All classes have a\n",
        "method \"getGender\" which can print \"Male\" for Male class and \"Female\" for Female\n",
        "class."
      ],
      "metadata": {
        "id": "d_hpaLtPgWjM"
      }
    },
    {
      "cell_type": "code",
      "source": [
        "class Person:\n",
        "  def getGender(self):\n",
        "    return \"Unknown\"\n",
        "class Male(Person):\n",
        "  def getGender(self):\n",
        "    return \"Male\"\n",
        "class Female(Person):\n",
        "    def getGender(self):\n",
        "      return \"Female\"\n",
        "person = Person()\n",
        "male = Male()\n",
        "female = Female()\n",
        "print(person.getGender())\n",
        "print(male.getGender())\n",
        "print(female.getGender())"
      ],
      "metadata": {
        "colab": {
          "base_uri": "https://localhost:8080/"
        },
        "id": "XDwdLB3NgqsO",
        "outputId": "b1b1ef67-278a-418d-b5f1-4e82fb2f91e2"
      },
      "execution_count": 4,
      "outputs": [
        {
          "output_type": "stream",
          "name": "stdout",
          "text": [
            "Unknown\n",
            "Male\n",
            "Female\n"
          ]
        }
      ]
    },
    {
      "cell_type": "markdown",
      "source": [
        "Program 83 Please write a program to generate all sentences where subject is in [\"I\", \"You\"] and\n",
        "verb is in [\"Play\", \"Love\"] and the object is in [\"Hockey\",\"Football\"]."
      ],
      "metadata": {
        "id": "w_775trvg7VZ"
      }
    },
    {
      "cell_type": "code",
      "source": [
        "subjects = [\"I\", \"You\"]\n",
        "verbs = [\"Play\", \"Love\"]\n",
        "objects = [\"Hockey\", \"Football\"]\n",
        "sentences = []\n",
        "for sub in subjects:\n",
        "  for vrb in verbs:\n",
        "    for obj in objects:\n",
        "      sentence = f\"{sub} {vrb} {obj}.\"\n",
        "      sentences.append(sentence)\n",
        "for sentence in sentences:\n",
        "  print(sentence)"
      ],
      "metadata": {
        "colab": {
          "base_uri": "https://localhost:8080/"
        },
        "id": "8UHGTR5kg8Te",
        "outputId": "30736fbf-4169-422e-b016-2a63c233720e"
      },
      "execution_count": 5,
      "outputs": [
        {
          "output_type": "stream",
          "name": "stdout",
          "text": [
            "I Play Hockey.\n",
            "I Play Football.\n",
            "I Love Hockey.\n",
            "I Love Football.\n",
            "You Play Hockey.\n",
            "You Play Football.\n",
            "You Love Hockey.\n",
            "You Love Football.\n"
          ]
        }
      ]
    },
    {
      "cell_type": "markdown",
      "source": [
        "Program 84 Please write a program to compress and decompress the string \"hello world!hello\n",
        "world!hello world!hello world!\"."
      ],
      "metadata": {
        "id": "QabqmsYYhIZG"
      }
    },
    {
      "cell_type": "code",
      "source": [
        "import zlib\n",
        "string = \"hello world!hello world!hello world!hello world!\"\n",
        "# Compress the string\n",
        "compressed_string = zlib.compress(string.encode())\n",
        "# Decompress the string\n",
        "decompressed_string = zlib.decompress(compressed_string).decode()\n",
        "print(\"Original String:\", string)\n",
        "print(\"Compressed String:\", compressed_string)\n",
        "print(\"Decompressed String:\", decompressed_string)"
      ],
      "metadata": {
        "colab": {
          "base_uri": "https://localhost:8080/"
        },
        "id": "J_s5zV02hLoY",
        "outputId": "dc6b95d6-6417-46b4-a01c-d1bf67279f68"
      },
      "execution_count": 6,
      "outputs": [
        {
          "output_type": "stream",
          "name": "stdout",
          "text": [
            "Original String: hello world!hello world!hello world!hello world!\n",
            "Compressed String: b'x\\x9c\\xcbH\\xcd\\xc9\\xc9W(\\xcf/\\xcaIQ\\xcc \\x82\\r\\x00\\xbd[\\x11\\xf5'\n",
            "Decompressed String: hello world!hello world!hello world!hello world!\n"
          ]
        }
      ]
    },
    {
      "cell_type": "markdown",
      "source": [
        "Program 85 Please write a binary search function which searches an item in a sorted list. The\n",
        "function should return the index of element to be searched in the list"
      ],
      "metadata": {
        "id": "l_IPpJ97hRhi"
      }
    },
    {
      "cell_type": "code",
      "source": [
        "def binary_search(arr, target):\n",
        "  left, right = 0, len(arr) - 1\n",
        "  while left <= right:\n",
        "    mid = (left + right) // 2\n",
        "    if arr[mid] == target:\n",
        "      return mid # Element found, return its index\n",
        "    elif arr[mid] < target:\n",
        "      left = mid + 1 # Target is in the right half\n",
        "    else:\n",
        "      right = mid - 1 # Target is in the left half\n",
        "    return -1 # Element not found in the list\n",
        "# Example usage:\n",
        "sorted_list = [1, 2, 3, 4, 5, 6, 7, 8, 9]\n",
        "target_element = 4\n",
        "result = binary_search(sorted_list, target_element)\n",
        "if result != -1:\n",
        "  print(f\"Element {target_element} found at index {result}\")\n",
        "else:\n",
        "  print(f\"Element {target_element} not found in the list\")"
      ],
      "metadata": {
        "colab": {
          "base_uri": "https://localhost:8080/"
        },
        "id": "rqpUn7QehUoC",
        "outputId": "c33bfb2c-0c29-4b16-f82d-c0a878d2676b"
      },
      "execution_count": 7,
      "outputs": [
        {
          "output_type": "stream",
          "name": "stdout",
          "text": [
            "Element 4 not found in the list\n"
          ]
        }
      ]
    },
    {
      "cell_type": "markdown",
      "source": [
        "Program 86 Please write a program using generator to print the numbers which can be divisible\n",
        "by 5 and 7 between 0 and n in comma separated form while n is input by console.\n",
        "Example:\n",
        "If the following n is given as input to the program:\n",
        "100\n",
        "Then, the output of the program should be:\n",
        "0,35,70"
      ],
      "metadata": {
        "id": "hPvnvqtThnB1"
      }
    },
    {
      "cell_type": "code",
      "source": [
        "def divisible_by_5_and_7(n):\n",
        "  for num in range(n + 1):\n",
        "    if num % 5 == 0 and num % 7 == 0:\n",
        "      yield num\n",
        "try:\n",
        "  n = int(input(\"Enter a value for n: \"))\n",
        "  result = divisible_by_5_and_7(n)\n",
        "  print(','.join(map(str, result)))\n",
        "except ValueError:\n",
        "  print(\"Invalid input. Please enter a valid integer\")"
      ],
      "metadata": {
        "colab": {
          "base_uri": "https://localhost:8080/"
        },
        "id": "a4tjdysOhuCX",
        "outputId": "e22dcf18-2286-4054-bea4-687a58ca25bf"
      },
      "execution_count": 9,
      "outputs": [
        {
          "output_type": "stream",
          "name": "stdout",
          "text": [
            "Enter a value for n: 264\n",
            "0,35,70,105,140,175,210,245\n"
          ]
        }
      ]
    },
    {
      "cell_type": "markdown",
      "source": [
        "Program 87 Please write a program using generator to print the even numbers between 0 and n in\n",
        "comma separated form while n is input by console.\n",
        "Example:\n",
        "If the following n is given as input to the program:\n",
        "10\n",
        "Then, the output of the program should be:\n",
        "0,2,4,6,8,10"
      ],
      "metadata": {
        "id": "DcAJTlmfh9t2"
      }
    },
    {
      "cell_type": "code",
      "source": [
        "def even_numbers(n):\n",
        "  for num in range(n + 1):\n",
        "    if num % 2 == 0:\n",
        "      yield num\n",
        "try:\n",
        "  n = int(input(\"Enter a value for n: \"))\n",
        "  result = even_numbers(n)\n",
        "  print(','.join(map(str, result)))\n",
        "except ValueError:\n",
        "  print(\"Invalid input. Please enter a valid integer for n.\")"
      ],
      "metadata": {
        "colab": {
          "base_uri": "https://localhost:8080/"
        },
        "id": "lTMJI4RaiDAs",
        "outputId": "d74b744d-3eb9-4d26-c71f-16e6e34b9c41"
      },
      "execution_count": 10,
      "outputs": [
        {
          "output_type": "stream",
          "name": "stdout",
          "text": [
            "Enter a value for n: 50\n",
            "0,2,4,6,8,10,12,14,16,18,20,22,24,26,28,30,32,34,36,38,40,42,44,46,48,50\n"
          ]
        }
      ]
    },
    {
      "cell_type": "markdown",
      "source": [
        "Program 88 Program for the fibonacci sequence using list comprehension  "
      ],
      "metadata": {
        "id": "8F5o6I7qiUDg"
      }
    },
    {
      "cell_type": "code",
      "source": [
        "def fibonacci(n):\n",
        "  sequence = [0, 1] # Initializing the sequence with the first two F\n",
        "  [sequence.append(sequence[-1] + sequence[-2]) for _ in range(2, n)]\n",
        "  return sequence\n",
        "try:\n",
        "  n = int(input(\"Enter a value for n: \"))\n",
        "  result = fibonacci(n)\n",
        "  print(','.join(map(str, result)))\n",
        "except ValueError:\n",
        "  print(\"Invalid input. Please enter a valid integer for n.\")"
      ],
      "metadata": {
        "colab": {
          "base_uri": "https://localhost:8080/"
        },
        "id": "GNUCZxnCixyw",
        "outputId": "ad6f3c43-3502-4ef1-e6cd-2f8f973c6cfc"
      },
      "execution_count": 11,
      "outputs": [
        {
          "output_type": "stream",
          "name": "stdout",
          "text": [
            "Enter a value for n: 10\n",
            "0,1,1,2,3,5,8,13,21,34\n"
          ]
        }
      ]
    },
    {
      "cell_type": "markdown",
      "source": [
        "Program 89 Assuming that we have some email addresses in the\n",
        "\"username@companyname.com (mailto:username@companyname.com)\" format,\n",
        "please write program to print the user name of a given email address. Both user\n",
        "names and company names are composed of letters only."
      ],
      "metadata": {
        "id": "dNu0S8e5i4Tc"
      }
    },
    {
      "cell_type": "code",
      "source": [
        "def extract_username(email):\n",
        "# Split the email address at '@' to separate the username and domai\n",
        "  parts = email.split('@')\n",
        "# Check if the email address has the expected format\n",
        "  if len(parts) == 2:\n",
        "    return parts[0] # The username is the first part\n",
        "  else:\n",
        "    return \"Invalid email format\"\n",
        "try:\n",
        "  email = input(\"Enter an email address: \")\n",
        "  username = extract_username(email)\n",
        "  print(username)\n",
        "except ValueError:\n",
        "  print(\"Invalid input. Please enter a valid email address.\")"
      ],
      "metadata": {
        "colab": {
          "base_uri": "https://localhost:8080/"
        },
        "id": "vbYcC9TRi4pb",
        "outputId": "eebbc217-b2b8-4b87-ad64-4f458ac1f12d"
      },
      "execution_count": 13,
      "outputs": [
        {
          "output_type": "stream",
          "name": "stdout",
          "text": [
            "Enter an email address: amitvsuryavanshi04@gmail.com\n",
            "amitvsuryavanshi04\n"
          ]
        }
      ]
    },
    {
      "cell_type": "markdown",
      "source": [
        "Program 90 Define a class named Shape and its subclass Square. The Square class has an init\n",
        "function which takes a length as argument. Both classes have an area function which\n",
        "can print the area of the shape where Shape's area is 0 by default."
      ],
      "metadata": {
        "id": "DPYwx6eajRJ-"
      }
    },
    {
      "cell_type": "code",
      "source": [
        "class Shape:\n",
        "    def __init__(self):\n",
        "        pass  # Default constructor, no need to initialize anything\n",
        "\n",
        "    def area(self):\n",
        "        return 0  # Shape's area is 0 by default\n",
        "\n",
        "\n",
        "class Square(Shape):\n",
        "    def __init__(self, length):\n",
        "        super().__init__()  # Call the constructor of the parent class\n",
        "        self.length = length\n",
        "\n",
        "    def area(self):\n",
        "        return self.length ** 2  # Calculate the area of the square\n",
        "\n",
        "\n",
        "# Create instances of the classes\n",
        "shape = Shape()\n",
        "square = Square(float(input(\"Enter the side length of the square: \")))\n",
        "\n",
        "# Calculate and print the areas\n",
        "print(\"Shape's area by default:\", shape.area())\n",
        "print(\"Area of the square:\", square.area())\n"
      ],
      "metadata": {
        "colab": {
          "base_uri": "https://localhost:8080/"
        },
        "id": "Qm067Et2jR5P",
        "outputId": "8ae25e99-b791-40f3-aeed-40a609e4efe6"
      },
      "execution_count": 16,
      "outputs": [
        {
          "output_type": "stream",
          "name": "stdout",
          "text": [
            "Enter the side length of the square: 10\n",
            "Shape's area by default: 0\n",
            "Area of the square: 100.0\n"
          ]
        }
      ]
    }
  ]
}
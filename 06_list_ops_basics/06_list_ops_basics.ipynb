{
  "nbformat": 4,
  "nbformat_minor": 0,
  "metadata": {
    "colab": {
      "provenance": []
    },
    "kernelspec": {
      "name": "python3",
      "display_name": "Python 3"
    },
    "language_info": {
      "name": "python"
    }
  },
  "cells": [
    {
      "cell_type": "markdown",
      "source": [
        "This notebook (list_ops_basics.ipynb) covers basic Python programs that perform essential operations on lists and strings, including finding maximum values, filtering, counting occurrences, cloning lists, and string manipulations. Ideal for Python beginners to strengthen foundational concepts.\n",
        "\n",
        "Can be accessed here(https://github.com/amitvsuryavanshi04/SIC_programming_and_coding)"
      ],
      "metadata": {
        "id": "00Rx97JtYyJY"
      }
    },
    {
      "cell_type": "markdown",
      "source": [
        "Program 51 Find the largest number in a list"
      ],
      "metadata": {
        "id": "cHMrTWN6YzYW"
      }
    },
    {
      "cell_type": "code",
      "execution_count": 1,
      "metadata": {
        "colab": {
          "base_uri": "https://localhost:8080/"
        },
        "id": "HAX5BFS8Ywhh",
        "outputId": "95bda6f5-f4b6-42db-ec8f-4e8ff3483449"
      },
      "outputs": [
        {
          "output_type": "stream",
          "name": "stdout",
          "text": [
            "The largest number in the list is: 30\n"
          ]
        }
      ],
      "source": [
        "# Sample lsit of the numbers\n",
        "numbers  = [30, 10, -45, 5, 20]\n",
        "\n",
        "#initialize a variable to store the minimum value\n",
        "minimum = numbers[0]\n",
        "\n",
        "#iterate throguh the list and update the minimum number\n",
        "for i in numbers:\n",
        "  if i > minimum:\n",
        "    minimum = i\n",
        "# Print the minimum value\n",
        "print(\"The largest number in the list is:\", minimum)"
      ]
    },
    {
      "cell_type": "markdown",
      "source": [
        "Program 52 code to find the second largest number in the list"
      ],
      "metadata": {
        "id": "g9CsoDxAZlSQ"
      }
    },
    {
      "cell_type": "code",
      "source": [
        "# Sample list of numbers\n",
        "numbers = [30, 10, 45, 5, 20]\n",
        "# Sort the list in descending order\n",
        "numbers.sort(reverse=True)\n",
        "# Check if there are at least two elements in the list\n",
        "if len(numbers) >= 2:\n",
        "  second_largest = numbers[1]\n",
        "  print(\"The second largest number in the list is:\", second_largest)\n",
        "else:\n",
        "  print(\"The list does not contain a second largest number.\")"
      ],
      "metadata": {
        "colab": {
          "base_uri": "https://localhost:8080/"
        },
        "id": "fe8QfZI1Zo3d",
        "outputId": "e280cee2-7f5d-4414-8196-ead9ed417b90"
      },
      "execution_count": 3,
      "outputs": [
        {
          "output_type": "stream",
          "name": "stdout",
          "text": [
            "The second largest number in the list is: 30\n"
          ]
        }
      ]
    },
    {
      "cell_type": "markdown",
      "source": [
        "Program 53 to find N Largest elements from a list."
      ],
      "metadata": {
        "id": "3mtdUh4bZyhO"
      }
    },
    {
      "cell_type": "code",
      "source": [
        "def find_n_largest_elements(lst, n):\n",
        "# Sort the list in descending order\n",
        "  sorted_lst = sorted(lst, reverse=True)\n",
        "# Get the first N elements\n",
        "  largest_elements = sorted_lst[:n]\n",
        "  return largest_elements\n",
        "# Sample list of numbers\n",
        "numbers = [30, 10, 45, 5, 20, 50, 15, 3, 345, 54, 67, 87, 98, 100, 34]\n",
        "# Number of largest elements to find\n",
        "N = int(input(\"N = \" ))\n",
        "# Find the N largest elements from the list\n",
        "result = find_n_largest_elements(numbers, N)\n",
        "# Print the N largest elements\n",
        "print(f\"The {N} largest elements in the list are:\", result)"
      ],
      "metadata": {
        "colab": {
          "base_uri": "https://localhost:8080/"
        },
        "id": "hxhf_-GlZ2m_",
        "outputId": "c0a8ee84-f81f-47db-f494-3a178877bc69"
      },
      "execution_count": 4,
      "outputs": [
        {
          "output_type": "stream",
          "name": "stdout",
          "text": [
            "N = 8\n",
            "The 8 largest elements in the list are: [345, 100, 98, 87, 67, 54, 50, 45]\n"
          ]
        }
      ]
    },
    {
      "cell_type": "markdown",
      "source": [
        "Program 54 code to print even numbers in a list."
      ],
      "metadata": {
        "id": "744hOkFzaEaH"
      }
    },
    {
      "cell_type": "code",
      "source": [
        "# Sample list of numbers\n",
        "numbers = [1, 2, 3, 4, 5, 6, 7, 8, 9, 10]\n",
        "# Using a list comprehension to filter even numbers\n",
        "even_numbers = [num for num in numbers if num % 2 == 0]\n",
        "# Print the even numbers\n",
        "print(\"Even numbers in the list:\", even_numbers)"
      ],
      "metadata": {
        "colab": {
          "base_uri": "https://localhost:8080/"
        },
        "id": "FaTY3Q0BaITE",
        "outputId": "4176c091-183d-4c67-9d24-a4c7f73ce749"
      },
      "execution_count": 5,
      "outputs": [
        {
          "output_type": "stream",
          "name": "stdout",
          "text": [
            "Even numbers in the list: [2, 4, 6, 8, 10]\n"
          ]
        }
      ]
    },
    {
      "cell_type": "markdown",
      "source": [
        "Program 55 python program to print odd numbers in a list."
      ],
      "metadata": {
        "id": "2acjTFJHaL05"
      }
    },
    {
      "cell_type": "code",
      "source": [
        "# Sample list of numbers.\n",
        "numbers = [1, 2, 3, 4, 5, 6, 7, 8, 9, 10]\n",
        "# Using a list comprehension to filter even numbers\n",
        "even_numbers = [num for num in numbers if num % 2 != 0]\n",
        "# Print the even numbers\n",
        "print(\"Odd numbers in the list:\", even_numbers)"
      ],
      "metadata": {
        "colab": {
          "base_uri": "https://localhost:8080/"
        },
        "id": "R57cHlvWaQ7y",
        "outputId": "b44e4beb-574b-42bb-e7e3-0c9b9dcc9cfb"
      },
      "execution_count": 6,
      "outputs": [
        {
          "output_type": "stream",
          "name": "stdout",
          "text": [
            "Odd numbers in the list: [1, 3, 5, 7, 9]\n"
          ]
        }
      ]
    },
    {
      "cell_type": "markdown",
      "source": [
        "Program 56 to remove empty list from a list"
      ],
      "metadata": {
        "id": "AYlk5GrdagYT"
      }
    },
    {
      "cell_type": "code",
      "source": [
        "# Sample list containing lists\n",
        "list_of_lists = [[1, 2, 3], [], [4, 5], [], [6, 7, 8], []]\n",
        "# Using a list comprehension to remove empty lists\n",
        "filtered_list = [i for i in list_of_lists if i]\n",
        "# Print the filtered list\n",
        "print(\"List after removing empty lists:\", filtered_list)"
      ],
      "metadata": {
        "colab": {
          "base_uri": "https://localhost:8080/"
        },
        "id": "N1v4Ke9uak1E",
        "outputId": "6f229b3d-83a2-4346-e188-09974c2074f3"
      },
      "execution_count": 7,
      "outputs": [
        {
          "output_type": "stream",
          "name": "stdout",
          "text": [
            "List after removing empty lists: [[1, 2, 3], [4, 5], [6, 7, 8]]\n"
          ]
        }
      ]
    },
    {
      "cell_type": "markdown",
      "source": [
        "Program 57 cloning or copying a list."
      ],
      "metadata": {
        "id": "aRG9TMs5an57"
      }
    },
    {
      "cell_type": "code",
      "source": [
        "#Method - 01 Using the slice operator.\n",
        "ori_list = [1,2,3,4,5]\n",
        "cloned_li = ori_list[:]\n",
        "print(cloned_li)"
      ],
      "metadata": {
        "colab": {
          "base_uri": "https://localhost:8080/"
        },
        "id": "OUq2XcknatNh",
        "outputId": "7130c9d6-a516-47d9-a518-6c85c6d83279"
      },
      "execution_count": 9,
      "outputs": [
        {
          "output_type": "stream",
          "name": "stdout",
          "text": [
            "[1, 2, 3, 4, 5]\n"
          ]
        }
      ]
    },
    {
      "cell_type": "code",
      "source": [
        "#Method - 02 using the list()operator\n",
        "ori_list = [1,2,3,4,5,6]\n",
        "cloned_list = ori_list[:]\n",
        "print(cloned_list)"
      ],
      "metadata": {
        "colab": {
          "base_uri": "https://localhost:8080/"
        },
        "id": "KF_x1TNOa_Tm",
        "outputId": "93edde88-c16b-4030-9402-201031998bf5"
      },
      "execution_count": 10,
      "outputs": [
        {
          "output_type": "stream",
          "name": "stdout",
          "text": [
            "[1, 2, 3, 4, 5, 6]\n"
          ]
        }
      ]
    },
    {
      "cell_type": "code",
      "source": [
        "#Method - 03 using the list comprehension\n",
        "ori_list = [1,2,3,4,5,6]\n",
        "cloned_list = [i for i in ori_list]\n",
        "print(cloned_list)"
      ],
      "metadata": {
        "colab": {
          "base_uri": "https://localhost:8080/"
        },
        "id": "qO6p62FxbT03",
        "outputId": "09405ac9-f2bc-4625-dbfe-384b1f9bf54b"
      },
      "execution_count": 11,
      "outputs": [
        {
          "output_type": "stream",
          "name": "stdout",
          "text": [
            "[1, 2, 3, 4, 5, 6]\n"
          ]
        }
      ]
    },
    {
      "cell_type": "markdown",
      "source": [
        "Program 58 count occurrences of an element in a list"
      ],
      "metadata": {
        "id": "bBcaVVavbZRl"
      }
    },
    {
      "cell_type": "code",
      "source": [
        "def count_occ(l,elem):\n",
        "  count = l.count(elem)\n",
        "  return count\n",
        "\n",
        "#Example usage:\n",
        "my_list = [1,2,3,4,5,2,3,4,6,5]\n",
        "elem_to_count = 2\n",
        "\n",
        "occ = count_occ(my_list,elem_to_count)\n",
        "print(f\"The element {elem_to_count} appears {occ} times in the list \")"
      ],
      "metadata": {
        "colab": {
          "base_uri": "https://localhost:8080/"
        },
        "id": "umQ1bCbmbeW1",
        "outputId": "9705f69a-36f9-4449-94d4-2cbfe874eb9a"
      },
      "execution_count": 12,
      "outputs": [
        {
          "output_type": "stream",
          "name": "stdout",
          "text": [
            "The element 2 appears 2 times in the list \n"
          ]
        }
      ]
    },
    {
      "cell_type": "markdown",
      "source": [
        "Program 59 to find words which have greater length compared to a given 'k'"
      ],
      "metadata": {
        "id": "_WFkvea4cAVn"
      }
    },
    {
      "cell_type": "code",
      "source": [
        "def find_words(words, k):\n",
        "# Create an empty list to store words greater than k\n",
        "  result = []\n",
        "# Iterate through each word in the list\n",
        "  for i in words:\n",
        "# Check if the length of the i is greater than k\n",
        "    if len(i) > k:\n",
        "# If yes, append it to the result list\n",
        "      result.append(i)\n",
        "  return result\n",
        "# Example usage\n",
        "word_list = [\"apple\", \"banana\", \"cherry\", \"date\", \"elderberry\", \"dragonfruit\"]\n",
        "k = 5\n",
        "long_words = find_words(word_list, k)\n",
        "print(f\"Words longer than {k} characters: {long_words}\")"
      ],
      "metadata": {
        "colab": {
          "base_uri": "https://localhost:8080/"
        },
        "id": "8H_9gPf-cHsu",
        "outputId": "467e6334-98fc-4be2-cf49-0b6d4c1cef92"
      },
      "execution_count": 13,
      "outputs": [
        {
          "output_type": "stream",
          "name": "stdout",
          "text": [
            "Words longer than 5 characters: ['banana', 'cherry', 'elderberry', 'dragonfruit']\n"
          ]
        }
      ]
    },
    {
      "cell_type": "markdown",
      "source": [
        "Program 60 removing i^th character from a string."
      ],
      "metadata": {
        "id": "kZl_8GorcVo9"
      }
    },
    {
      "cell_type": "code",
      "source": [
        "def remove_char(input_str, i):\n",
        "# Check if i is a valid index\n",
        "  if i < 0 or i >= len(input_str):\n",
        "    print(f\"Invalid index {i}. The string remains unchanged.\")\n",
        "    return input_str\n",
        "# Remove the i-th character using slicing\n",
        "  result_str = input_str[:i] + input_str[i + 1:]\n",
        "  return result_str\n",
        "# Input string\n",
        "input_str = \"Hello, wWorld!\"\n",
        "i = 7 # Index of the character to remove\n",
        "# Remove the i-th character\n",
        "new_str = remove_char(input_str, i)\n",
        "print(f\"Original String: {input_str}\")\n",
        "print(f\"String after removing {i}th character : {new_str}\")"
      ],
      "metadata": {
        "colab": {
          "base_uri": "https://localhost:8080/"
        },
        "id": "tbfBFx67cZpr",
        "outputId": "1abc60df-0716-424f-aba3-0f2df255a66b"
      },
      "execution_count": 14,
      "outputs": [
        {
          "output_type": "stream",
          "name": "stdout",
          "text": [
            "Original String: Hello, wWorld!\n",
            "String after removing 7th character : Hello, World!\n"
          ]
        }
      ]
    }
  ]
}